{
 "cells": [
  {
   "cell_type": "markdown",
   "metadata": {},
   "source": [
    "# Aprenentatge supervisat (Classificació)"
   ]
  },
  {
   "cell_type": "markdown",
   "metadata": {},
   "source": [
    "## Nivell 1\n",
    "### Exercici 1 i 2\n",
    "Crea almenys tres models de classificació diferents per intentar predir el millor possible l’endarreriment dels vols (ArrDelay) de DelayedFlights.csv. Considera si el vol ha arribat tard o no (ArrDelay > 0)."
   ]
  },
  {
   "cell_type": "code",
   "execution_count": 229,
   "metadata": {},
   "outputs": [],
   "source": [
    "import pandas as pd\n",
    "import numpy as np\n",
    "from sklearn.neighbors import KNeighborsClassifier\n",
    "import matplotlib.pyplot as plt\n",
    "import seaborn as sns\n",
    "from sklearn.model_selection import train_test_split\n",
    "import sklearn.metrics as metrics\n",
    "from sklearn import svm\n",
    "import xgboost as xgb\n",
    "from sklearn.model_selection import cross_val_score\n",
    "from sklearn.feature_selection import mutual_info_classif as MI\n",
    "from sklearn.preprocessing import MinMaxScaler,RobustScaler,StandardScaler\n",
    "from sklearn.ensemble import RandomForestClassifier as RFC\n",
    "import time\n",
    "import datetime\n",
    "from sklearn.model_selection import KFold\n",
    "from sklearn.metrics import roc_auc_score\n",
    "from imblearn.over_sampling import RandomOverSampler\n"
   ]
  },
  {
   "cell_type": "code",
   "execution_count": 4,
   "metadata": {},
   "outputs": [],
   "source": [
    "## function to mesure Execution Time\n",
    "def exec_time(start, end):\n",
    "    diff_time = end - start\n",
    "    m, s = divmod(diff_time, 60)\n",
    "    h, m = divmod(m, 60)\n",
    "    s,m,h = int(round(s, 0)), int(round(m, 0)), int(round(h, 0))\n",
    "    print(\"Execution Time: \" + \"{0:02d}:{1:02d}:{2:02d}\".format(h, m, s))\n",
    "    \n",
    "    x= datetime.time(hour=h, minute=m, second=s)   \n",
    "    return (x)"
   ]
  },
  {
   "cell_type": "code",
   "execution_count": 44,
   "metadata": {},
   "outputs": [],
   "source": [
    "\n",
    "df = pd.read_csv('DelayedFlights.csv')\n"
   ]
  },
  {
   "cell_type": "code",
   "execution_count": 4,
   "metadata": {},
   "outputs": [
    {
     "data": {
      "text/html": [
       "<div>\n",
       "<style scoped>\n",
       "    .dataframe tbody tr th:only-of-type {\n",
       "        vertical-align: middle;\n",
       "    }\n",
       "\n",
       "    .dataframe tbody tr th {\n",
       "        vertical-align: top;\n",
       "    }\n",
       "\n",
       "    .dataframe thead th {\n",
       "        text-align: right;\n",
       "    }\n",
       "</style>\n",
       "<table border=\"1\" class=\"dataframe\">\n",
       "  <thead>\n",
       "    <tr style=\"text-align: right;\">\n",
       "      <th></th>\n",
       "      <th>Unnamed: 0</th>\n",
       "      <th>Year</th>\n",
       "      <th>Month</th>\n",
       "      <th>DayofMonth</th>\n",
       "      <th>DayOfWeek</th>\n",
       "      <th>DepTime</th>\n",
       "      <th>CRSDepTime</th>\n",
       "      <th>ArrTime</th>\n",
       "      <th>CRSArrTime</th>\n",
       "      <th>UniqueCarrier</th>\n",
       "      <th>...</th>\n",
       "      <th>TaxiIn</th>\n",
       "      <th>TaxiOut</th>\n",
       "      <th>Cancelled</th>\n",
       "      <th>CancellationCode</th>\n",
       "      <th>Diverted</th>\n",
       "      <th>CarrierDelay</th>\n",
       "      <th>WeatherDelay</th>\n",
       "      <th>NASDelay</th>\n",
       "      <th>SecurityDelay</th>\n",
       "      <th>LateAircraftDelay</th>\n",
       "    </tr>\n",
       "  </thead>\n",
       "  <tbody>\n",
       "    <tr>\n",
       "      <th>0</th>\n",
       "      <td>0</td>\n",
       "      <td>2008</td>\n",
       "      <td>1</td>\n",
       "      <td>3</td>\n",
       "      <td>4</td>\n",
       "      <td>2003.0</td>\n",
       "      <td>1955</td>\n",
       "      <td>2211.0</td>\n",
       "      <td>2225</td>\n",
       "      <td>WN</td>\n",
       "      <td>...</td>\n",
       "      <td>4.0</td>\n",
       "      <td>8.0</td>\n",
       "      <td>0</td>\n",
       "      <td>N</td>\n",
       "      <td>0</td>\n",
       "      <td>NaN</td>\n",
       "      <td>NaN</td>\n",
       "      <td>NaN</td>\n",
       "      <td>NaN</td>\n",
       "      <td>NaN</td>\n",
       "    </tr>\n",
       "    <tr>\n",
       "      <th>1</th>\n",
       "      <td>1</td>\n",
       "      <td>2008</td>\n",
       "      <td>1</td>\n",
       "      <td>3</td>\n",
       "      <td>4</td>\n",
       "      <td>754.0</td>\n",
       "      <td>735</td>\n",
       "      <td>1002.0</td>\n",
       "      <td>1000</td>\n",
       "      <td>WN</td>\n",
       "      <td>...</td>\n",
       "      <td>5.0</td>\n",
       "      <td>10.0</td>\n",
       "      <td>0</td>\n",
       "      <td>N</td>\n",
       "      <td>0</td>\n",
       "      <td>NaN</td>\n",
       "      <td>NaN</td>\n",
       "      <td>NaN</td>\n",
       "      <td>NaN</td>\n",
       "      <td>NaN</td>\n",
       "    </tr>\n",
       "    <tr>\n",
       "      <th>2</th>\n",
       "      <td>2</td>\n",
       "      <td>2008</td>\n",
       "      <td>1</td>\n",
       "      <td>3</td>\n",
       "      <td>4</td>\n",
       "      <td>628.0</td>\n",
       "      <td>620</td>\n",
       "      <td>804.0</td>\n",
       "      <td>750</td>\n",
       "      <td>WN</td>\n",
       "      <td>...</td>\n",
       "      <td>3.0</td>\n",
       "      <td>17.0</td>\n",
       "      <td>0</td>\n",
       "      <td>N</td>\n",
       "      <td>0</td>\n",
       "      <td>NaN</td>\n",
       "      <td>NaN</td>\n",
       "      <td>NaN</td>\n",
       "      <td>NaN</td>\n",
       "      <td>NaN</td>\n",
       "    </tr>\n",
       "    <tr>\n",
       "      <th>3</th>\n",
       "      <td>4</td>\n",
       "      <td>2008</td>\n",
       "      <td>1</td>\n",
       "      <td>3</td>\n",
       "      <td>4</td>\n",
       "      <td>1829.0</td>\n",
       "      <td>1755</td>\n",
       "      <td>1959.0</td>\n",
       "      <td>1925</td>\n",
       "      <td>WN</td>\n",
       "      <td>...</td>\n",
       "      <td>3.0</td>\n",
       "      <td>10.0</td>\n",
       "      <td>0</td>\n",
       "      <td>N</td>\n",
       "      <td>0</td>\n",
       "      <td>2.0</td>\n",
       "      <td>0.0</td>\n",
       "      <td>0.0</td>\n",
       "      <td>0.0</td>\n",
       "      <td>32.0</td>\n",
       "    </tr>\n",
       "    <tr>\n",
       "      <th>4</th>\n",
       "      <td>5</td>\n",
       "      <td>2008</td>\n",
       "      <td>1</td>\n",
       "      <td>3</td>\n",
       "      <td>4</td>\n",
       "      <td>1940.0</td>\n",
       "      <td>1915</td>\n",
       "      <td>2121.0</td>\n",
       "      <td>2110</td>\n",
       "      <td>WN</td>\n",
       "      <td>...</td>\n",
       "      <td>4.0</td>\n",
       "      <td>10.0</td>\n",
       "      <td>0</td>\n",
       "      <td>N</td>\n",
       "      <td>0</td>\n",
       "      <td>NaN</td>\n",
       "      <td>NaN</td>\n",
       "      <td>NaN</td>\n",
       "      <td>NaN</td>\n",
       "      <td>NaN</td>\n",
       "    </tr>\n",
       "  </tbody>\n",
       "</table>\n",
       "<p>5 rows × 30 columns</p>\n",
       "</div>"
      ],
      "text/plain": [
       "   Unnamed: 0  Year  Month  DayofMonth  DayOfWeek  DepTime  CRSDepTime  \\\n",
       "0           0  2008      1           3          4   2003.0        1955   \n",
       "1           1  2008      1           3          4    754.0         735   \n",
       "2           2  2008      1           3          4    628.0         620   \n",
       "3           4  2008      1           3          4   1829.0        1755   \n",
       "4           5  2008      1           3          4   1940.0        1915   \n",
       "\n",
       "   ArrTime  CRSArrTime UniqueCarrier  ...  TaxiIn TaxiOut  Cancelled  \\\n",
       "0   2211.0        2225            WN  ...     4.0     8.0          0   \n",
       "1   1002.0        1000            WN  ...     5.0    10.0          0   \n",
       "2    804.0         750            WN  ...     3.0    17.0          0   \n",
       "3   1959.0        1925            WN  ...     3.0    10.0          0   \n",
       "4   2121.0        2110            WN  ...     4.0    10.0          0   \n",
       "\n",
       "   CancellationCode  Diverted  CarrierDelay  WeatherDelay NASDelay  \\\n",
       "0                 N         0           NaN           NaN      NaN   \n",
       "1                 N         0           NaN           NaN      NaN   \n",
       "2                 N         0           NaN           NaN      NaN   \n",
       "3                 N         0           2.0           0.0      0.0   \n",
       "4                 N         0           NaN           NaN      NaN   \n",
       "\n",
       "  SecurityDelay  LateAircraftDelay  \n",
       "0           NaN                NaN  \n",
       "1           NaN                NaN  \n",
       "2           NaN                NaN  \n",
       "3           0.0               32.0  \n",
       "4           NaN                NaN  \n",
       "\n",
       "[5 rows x 30 columns]"
      ]
     },
     "execution_count": 4,
     "metadata": {},
     "output_type": "execute_result"
    }
   ],
   "source": [
    "df.head()"
   ]
  },
  {
   "cell_type": "markdown",
   "metadata": {},
   "source": [
    "First steps \n",
    "- analyze the dataset:\n",
    "- Remove useless columns and rows\n",
    "- find relationsship between data\n",
    "- create new colum with the target\n",
    " - Assing 1 if ArrDelay is greater than 0 otherwise 0\n",
    "    \n"
   ]
  },
  {
   "cell_type": "code",
   "execution_count": 45,
   "metadata": {},
   "outputs": [],
   "source": [
    "## we can start dropping unnamed: 0 because lack of information\n",
    "df.drop('Unnamed: 0',axis=1,inplace=True)"
   ]
  },
  {
   "cell_type": "code",
   "execution_count": 46,
   "metadata": {},
   "outputs": [],
   "source": [
    "df['Delayed']= np.where(df['ArrDelay']>0,1,0)"
   ]
  },
  {
   "cell_type": "code",
   "execution_count": 47,
   "metadata": {},
   "outputs": [
    {
     "data": {
      "text/html": [
       "<div>\n",
       "<style scoped>\n",
       "    .dataframe tbody tr th:only-of-type {\n",
       "        vertical-align: middle;\n",
       "    }\n",
       "\n",
       "    .dataframe tbody tr th {\n",
       "        vertical-align: top;\n",
       "    }\n",
       "\n",
       "    .dataframe thead th {\n",
       "        text-align: right;\n",
       "    }\n",
       "</style>\n",
       "<table border=\"1\" class=\"dataframe\">\n",
       "  <thead>\n",
       "    <tr style=\"text-align: right;\">\n",
       "      <th></th>\n",
       "      <th>Delayed</th>\n",
       "      <th>ArrDelay</th>\n",
       "    </tr>\n",
       "  </thead>\n",
       "  <tbody>\n",
       "    <tr>\n",
       "      <th>0</th>\n",
       "      <td>0</td>\n",
       "      <td>-14.0</td>\n",
       "    </tr>\n",
       "    <tr>\n",
       "      <th>1</th>\n",
       "      <td>1</td>\n",
       "      <td>2.0</td>\n",
       "    </tr>\n",
       "    <tr>\n",
       "      <th>2</th>\n",
       "      <td>1</td>\n",
       "      <td>14.0</td>\n",
       "    </tr>\n",
       "    <tr>\n",
       "      <th>3</th>\n",
       "      <td>1</td>\n",
       "      <td>34.0</td>\n",
       "    </tr>\n",
       "    <tr>\n",
       "      <th>4</th>\n",
       "      <td>1</td>\n",
       "      <td>11.0</td>\n",
       "    </tr>\n",
       "    <tr>\n",
       "      <th>...</th>\n",
       "      <td>...</td>\n",
       "      <td>...</td>\n",
       "    </tr>\n",
       "    <tr>\n",
       "      <th>1936753</th>\n",
       "      <td>1</td>\n",
       "      <td>25.0</td>\n",
       "    </tr>\n",
       "    <tr>\n",
       "      <th>1936754</th>\n",
       "      <td>1</td>\n",
       "      <td>75.0</td>\n",
       "    </tr>\n",
       "    <tr>\n",
       "      <th>1936755</th>\n",
       "      <td>1</td>\n",
       "      <td>99.0</td>\n",
       "    </tr>\n",
       "    <tr>\n",
       "      <th>1936756</th>\n",
       "      <td>1</td>\n",
       "      <td>9.0</td>\n",
       "    </tr>\n",
       "    <tr>\n",
       "      <th>1936757</th>\n",
       "      <td>0</td>\n",
       "      <td>-5.0</td>\n",
       "    </tr>\n",
       "  </tbody>\n",
       "</table>\n",
       "<p>1936758 rows × 2 columns</p>\n",
       "</div>"
      ],
      "text/plain": [
       "         Delayed  ArrDelay\n",
       "0              0     -14.0\n",
       "1              1       2.0\n",
       "2              1      14.0\n",
       "3              1      34.0\n",
       "4              1      11.0\n",
       "...          ...       ...\n",
       "1936753        1      25.0\n",
       "1936754        1      75.0\n",
       "1936755        1      99.0\n",
       "1936756        1       9.0\n",
       "1936757        0      -5.0\n",
       "\n",
       "[1936758 rows x 2 columns]"
      ]
     },
     "execution_count": 47,
     "metadata": {},
     "output_type": "execute_result"
    }
   ],
   "source": [
    "df[['Delayed','ArrDelay']]"
   ]
  },
  {
   "cell_type": "code",
   "execution_count": 48,
   "metadata": {},
   "outputs": [
    {
     "data": {
      "text/html": [
       "<div>\n",
       "<style scoped>\n",
       "    .dataframe tbody tr th:only-of-type {\n",
       "        vertical-align: middle;\n",
       "    }\n",
       "\n",
       "    .dataframe tbody tr th {\n",
       "        vertical-align: top;\n",
       "    }\n",
       "\n",
       "    .dataframe thead th {\n",
       "        text-align: right;\n",
       "    }\n",
       "</style>\n",
       "<table border=\"1\" class=\"dataframe\">\n",
       "  <thead>\n",
       "    <tr style=\"text-align: right;\">\n",
       "      <th></th>\n",
       "      <th>Diverted</th>\n",
       "      <th>ArrDelay</th>\n",
       "    </tr>\n",
       "  </thead>\n",
       "  <tbody>\n",
       "    <tr>\n",
       "      <th>1280</th>\n",
       "      <td>1</td>\n",
       "      <td>NaN</td>\n",
       "    </tr>\n",
       "    <tr>\n",
       "      <th>1372</th>\n",
       "      <td>1</td>\n",
       "      <td>NaN</td>\n",
       "    </tr>\n",
       "    <tr>\n",
       "      <th>1776</th>\n",
       "      <td>1</td>\n",
       "      <td>NaN</td>\n",
       "    </tr>\n",
       "    <tr>\n",
       "      <th>1831</th>\n",
       "      <td>1</td>\n",
       "      <td>NaN</td>\n",
       "    </tr>\n",
       "    <tr>\n",
       "      <th>2244</th>\n",
       "      <td>1</td>\n",
       "      <td>NaN</td>\n",
       "    </tr>\n",
       "    <tr>\n",
       "      <th>...</th>\n",
       "      <td>...</td>\n",
       "      <td>...</td>\n",
       "    </tr>\n",
       "    <tr>\n",
       "      <th>1934369</th>\n",
       "      <td>1</td>\n",
       "      <td>NaN</td>\n",
       "    </tr>\n",
       "    <tr>\n",
       "      <th>1934921</th>\n",
       "      <td>1</td>\n",
       "      <td>NaN</td>\n",
       "    </tr>\n",
       "    <tr>\n",
       "      <th>1935596</th>\n",
       "      <td>1</td>\n",
       "      <td>NaN</td>\n",
       "    </tr>\n",
       "    <tr>\n",
       "      <th>1935716</th>\n",
       "      <td>1</td>\n",
       "      <td>NaN</td>\n",
       "    </tr>\n",
       "    <tr>\n",
       "      <th>1935978</th>\n",
       "      <td>1</td>\n",
       "      <td>NaN</td>\n",
       "    </tr>\n",
       "  </tbody>\n",
       "</table>\n",
       "<p>7754 rows × 2 columns</p>\n",
       "</div>"
      ],
      "text/plain": [
       "         Diverted  ArrDelay\n",
       "1280            1       NaN\n",
       "1372            1       NaN\n",
       "1776            1       NaN\n",
       "1831            1       NaN\n",
       "2244            1       NaN\n",
       "...           ...       ...\n",
       "1934369         1       NaN\n",
       "1934921         1       NaN\n",
       "1935596         1       NaN\n",
       "1935716         1       NaN\n",
       "1935978         1       NaN\n",
       "\n",
       "[7754 rows x 2 columns]"
      ]
     },
     "execution_count": 48,
     "metadata": {},
     "output_type": "execute_result"
    }
   ],
   "source": [
    "## check the relationship between diverted and  the target\n",
    "df_check =df[['Diverted','ArrDelay']]\n",
    "df_check[df_check['Diverted']==1]"
   ]
  },
  {
   "cell_type": "markdown",
   "metadata": {},
   "source": [
    "When the value of diverted is 1  the value of arrDelay is null. that makes sense because diverted =1 means that the Flight does not follow the path scheduled.\n",
    "we can remove all the rows with diverted =1 "
   ]
  },
  {
   "cell_type": "code",
   "execution_count": 49,
   "metadata": {},
   "outputs": [],
   "source": [
    "df.drop(df[df.Diverted==1].index,inplace=True)"
   ]
  },
  {
   "cell_type": "code",
   "execution_count": 50,
   "metadata": {},
   "outputs": [
    {
     "data": {
      "text/html": [
       "<div>\n",
       "<style scoped>\n",
       "    .dataframe tbody tr th:only-of-type {\n",
       "        vertical-align: middle;\n",
       "    }\n",
       "\n",
       "    .dataframe tbody tr th {\n",
       "        vertical-align: top;\n",
       "    }\n",
       "\n",
       "    .dataframe thead th {\n",
       "        text-align: right;\n",
       "    }\n",
       "</style>\n",
       "<table border=\"1\" class=\"dataframe\">\n",
       "  <thead>\n",
       "    <tr style=\"text-align: right;\">\n",
       "      <th></th>\n",
       "      <th>ArrDelay</th>\n",
       "      <th>Delayed</th>\n",
       "    </tr>\n",
       "  </thead>\n",
       "  <tbody>\n",
       "    <tr>\n",
       "      <th>1542406</th>\n",
       "      <td>NaN</td>\n",
       "      <td>0</td>\n",
       "    </tr>\n",
       "    <tr>\n",
       "      <th>1546593</th>\n",
       "      <td>NaN</td>\n",
       "      <td>0</td>\n",
       "    </tr>\n",
       "    <tr>\n",
       "      <th>1547161</th>\n",
       "      <td>NaN</td>\n",
       "      <td>0</td>\n",
       "    </tr>\n",
       "    <tr>\n",
       "      <th>1547178</th>\n",
       "      <td>NaN</td>\n",
       "      <td>0</td>\n",
       "    </tr>\n",
       "    <tr>\n",
       "      <th>1548271</th>\n",
       "      <td>NaN</td>\n",
       "      <td>0</td>\n",
       "    </tr>\n",
       "    <tr>\n",
       "      <th>...</th>\n",
       "      <td>...</td>\n",
       "      <td>...</td>\n",
       "    </tr>\n",
       "    <tr>\n",
       "      <th>1934590</th>\n",
       "      <td>NaN</td>\n",
       "      <td>0</td>\n",
       "    </tr>\n",
       "    <tr>\n",
       "      <th>1935491</th>\n",
       "      <td>NaN</td>\n",
       "      <td>0</td>\n",
       "    </tr>\n",
       "    <tr>\n",
       "      <th>1935651</th>\n",
       "      <td>NaN</td>\n",
       "      <td>0</td>\n",
       "    </tr>\n",
       "    <tr>\n",
       "      <th>1935876</th>\n",
       "      <td>NaN</td>\n",
       "      <td>0</td>\n",
       "    </tr>\n",
       "    <tr>\n",
       "      <th>1936470</th>\n",
       "      <td>NaN</td>\n",
       "      <td>0</td>\n",
       "    </tr>\n",
       "  </tbody>\n",
       "</table>\n",
       "<p>633 rows × 2 columns</p>\n",
       "</div>"
      ],
      "text/plain": [
       "         ArrDelay  Delayed\n",
       "1542406       NaN        0\n",
       "1546593       NaN        0\n",
       "1547161       NaN        0\n",
       "1547178       NaN        0\n",
       "1548271       NaN        0\n",
       "...           ...      ...\n",
       "1934590       NaN        0\n",
       "1935491       NaN        0\n",
       "1935651       NaN        0\n",
       "1935876       NaN        0\n",
       "1936470       NaN        0\n",
       "\n",
       "[633 rows x 2 columns]"
      ]
     },
     "execution_count": 50,
     "metadata": {},
     "output_type": "execute_result"
    }
   ],
   "source": [
    "df.loc[df.Cancelled==1,['ArrDelay','Delayed']]"
   ]
  },
  {
   "cell_type": "markdown",
   "metadata": {},
   "source": [
    "we can see that all the flights that  cancelled is equal 1  there are not values for ArrDelay  therefore the value of Delayed will be 0 . Said that, there is no reason to use all the row that the flight was cancelled"
   ]
  },
  {
   "cell_type": "code",
   "execution_count": 51,
   "metadata": {},
   "outputs": [],
   "source": [
    "df.drop(df[df.Cancelled==1].index,inplace=True)"
   ]
  },
  {
   "cell_type": "markdown",
   "metadata": {},
   "source": [
    "we can remove the cancellation code column as well"
   ]
  },
  {
   "cell_type": "code",
   "execution_count": 52,
   "metadata": {},
   "outputs": [],
   "source": [
    "df.drop('CancellationCode',axis=1,inplace=True)"
   ]
  },
  {
   "cell_type": "code",
   "execution_count": 53,
   "metadata": {},
   "outputs": [],
   "source": [
    "d1 = df[['UniqueCarrier','Delayed']]"
   ]
  },
  {
   "cell_type": "code",
   "execution_count": 54,
   "metadata": {},
   "outputs": [],
   "source": [
    "grouped =d1.groupby(['UniqueCarrier'])['Delayed'].mean().rename('Percentage').reset_index()"
   ]
  },
  {
   "cell_type": "code",
   "execution_count": 55,
   "metadata": {},
   "outputs": [],
   "source": [
    "grouped['Percentage']=grouped['Percentage']*100"
   ]
  },
  {
   "cell_type": "code",
   "execution_count": 56,
   "metadata": {},
   "outputs": [
    {
     "data": {
      "image/png": "[encoded data removed]",
      "text/plain": [
       "<Figure size 1080x576 with 1 Axes>"
      ]
     },
     "metadata": {
      "needs_background": "light"
     },
     "output_type": "display_data"
    }
   ],
   "source": [
    "\n",
    "plt.figure(figsize=(15,8))\n",
    "ax=sns.barplot(x='UniqueCarrier',y='Percentage',data=grouped).set_title('Percentage of delayed flights by carrier')"
   ]
  },
  {
   "cell_type": "markdown",
   "metadata": {},
   "source": [
    "In the plot we can see, there is no strong variance in the diference of delayed flights  for each carries.Therefore, seems that is not giving important information due to the uniform distribution,so we remove the attribute"
   ]
  },
  {
   "cell_type": "code",
   "execution_count": 57,
   "metadata": {},
   "outputs": [],
   "source": [
    "df.drop(['UniqueCarrier'],axis=1,inplace=True)\n"
   ]
  },
  {
   "cell_type": "code",
   "execution_count": 58,
   "metadata": {},
   "outputs": [],
   "source": [
    "df.drop(['FlightNum'],axis=1,inplace=True)"
   ]
  },
  {
   "cell_type": "code",
   "execution_count": 59,
   "metadata": {},
   "outputs": [],
   "source": [
    "df.drop([ 'TailNum','Origin', 'Dest','ArrDelay' ], axis=1, inplace=True)"
   ]
  },
  {
   "cell_type": "code",
   "execution_count": 21,
   "metadata": {},
   "outputs": [
    {
     "data": {
      "text/html": [
       "<div>\n",
       "<style scoped>\n",
       "    .dataframe tbody tr th:only-of-type {\n",
       "        vertical-align: middle;\n",
       "    }\n",
       "\n",
       "    .dataframe tbody tr th {\n",
       "        vertical-align: top;\n",
       "    }\n",
       "\n",
       "    .dataframe thead th {\n",
       "        text-align: right;\n",
       "    }\n",
       "</style>\n",
       "<table border=\"1\" class=\"dataframe\">\n",
       "  <thead>\n",
       "    <tr style=\"text-align: right;\">\n",
       "      <th></th>\n",
       "      <th>variable</th>\n",
       "      <th>missing values</th>\n",
       "      <th>filling factor (%)</th>\n",
       "    </tr>\n",
       "  </thead>\n",
       "  <tbody>\n",
       "    <tr>\n",
       "      <th>0</th>\n",
       "      <td>SecurityDelay</td>\n",
       "      <td>680883</td>\n",
       "      <td>64.691286</td>\n",
       "    </tr>\n",
       "    <tr>\n",
       "      <th>1</th>\n",
       "      <td>NASDelay</td>\n",
       "      <td>680883</td>\n",
       "      <td>64.691286</td>\n",
       "    </tr>\n",
       "    <tr>\n",
       "      <th>2</th>\n",
       "      <td>WeatherDelay</td>\n",
       "      <td>680883</td>\n",
       "      <td>64.691286</td>\n",
       "    </tr>\n",
       "    <tr>\n",
       "      <th>3</th>\n",
       "      <td>CarrierDelay</td>\n",
       "      <td>680883</td>\n",
       "      <td>64.691286</td>\n",
       "    </tr>\n",
       "    <tr>\n",
       "      <th>4</th>\n",
       "      <td>LateAircraftDelay</td>\n",
       "      <td>680883</td>\n",
       "      <td>64.691286</td>\n",
       "    </tr>\n",
       "    <tr>\n",
       "      <th>5</th>\n",
       "      <td>Year</td>\n",
       "      <td>0</td>\n",
       "      <td>100.000000</td>\n",
       "    </tr>\n",
       "    <tr>\n",
       "      <th>6</th>\n",
       "      <td>Diverted</td>\n",
       "      <td>0</td>\n",
       "      <td>100.000000</td>\n",
       "    </tr>\n",
       "    <tr>\n",
       "      <th>7</th>\n",
       "      <td>Cancelled</td>\n",
       "      <td>0</td>\n",
       "      <td>100.000000</td>\n",
       "    </tr>\n",
       "    <tr>\n",
       "      <th>8</th>\n",
       "      <td>TaxiOut</td>\n",
       "      <td>0</td>\n",
       "      <td>100.000000</td>\n",
       "    </tr>\n",
       "    <tr>\n",
       "      <th>9</th>\n",
       "      <td>TaxiIn</td>\n",
       "      <td>0</td>\n",
       "      <td>100.000000</td>\n",
       "    </tr>\n",
       "    <tr>\n",
       "      <th>10</th>\n",
       "      <td>Distance</td>\n",
       "      <td>0</td>\n",
       "      <td>100.000000</td>\n",
       "    </tr>\n",
       "    <tr>\n",
       "      <th>11</th>\n",
       "      <td>DepDelay</td>\n",
       "      <td>0</td>\n",
       "      <td>100.000000</td>\n",
       "    </tr>\n",
       "    <tr>\n",
       "      <th>12</th>\n",
       "      <td>CRSElapsedTime</td>\n",
       "      <td>0</td>\n",
       "      <td>100.000000</td>\n",
       "    </tr>\n",
       "    <tr>\n",
       "      <th>13</th>\n",
       "      <td>ActualElapsedTime</td>\n",
       "      <td>0</td>\n",
       "      <td>100.000000</td>\n",
       "    </tr>\n",
       "    <tr>\n",
       "      <th>14</th>\n",
       "      <td>CRSArrTime</td>\n",
       "      <td>0</td>\n",
       "      <td>100.000000</td>\n",
       "    </tr>\n",
       "    <tr>\n",
       "      <th>15</th>\n",
       "      <td>ArrTime</td>\n",
       "      <td>0</td>\n",
       "      <td>100.000000</td>\n",
       "    </tr>\n",
       "    <tr>\n",
       "      <th>16</th>\n",
       "      <td>CRSDepTime</td>\n",
       "      <td>0</td>\n",
       "      <td>100.000000</td>\n",
       "    </tr>\n",
       "    <tr>\n",
       "      <th>17</th>\n",
       "      <td>DepTime</td>\n",
       "      <td>0</td>\n",
       "      <td>100.000000</td>\n",
       "    </tr>\n",
       "    <tr>\n",
       "      <th>18</th>\n",
       "      <td>DayOfWeek</td>\n",
       "      <td>0</td>\n",
       "      <td>100.000000</td>\n",
       "    </tr>\n",
       "    <tr>\n",
       "      <th>19</th>\n",
       "      <td>DayofMonth</td>\n",
       "      <td>0</td>\n",
       "      <td>100.000000</td>\n",
       "    </tr>\n",
       "    <tr>\n",
       "      <th>20</th>\n",
       "      <td>Month</td>\n",
       "      <td>0</td>\n",
       "      <td>100.000000</td>\n",
       "    </tr>\n",
       "    <tr>\n",
       "      <th>21</th>\n",
       "      <td>AirTime</td>\n",
       "      <td>0</td>\n",
       "      <td>100.000000</td>\n",
       "    </tr>\n",
       "    <tr>\n",
       "      <th>22</th>\n",
       "      <td>Delayed</td>\n",
       "      <td>0</td>\n",
       "      <td>100.000000</td>\n",
       "    </tr>\n",
       "  </tbody>\n",
       "</table>\n",
       "</div>"
      ],
      "text/plain": [
       "             variable  missing values  filling factor (%)\n",
       "0       SecurityDelay          680883           64.691286\n",
       "1            NASDelay          680883           64.691286\n",
       "2        WeatherDelay          680883           64.691286\n",
       "3        CarrierDelay          680883           64.691286\n",
       "4   LateAircraftDelay          680883           64.691286\n",
       "5                Year               0          100.000000\n",
       "6            Diverted               0          100.000000\n",
       "7           Cancelled               0          100.000000\n",
       "8             TaxiOut               0          100.000000\n",
       "9              TaxiIn               0          100.000000\n",
       "10           Distance               0          100.000000\n",
       "11           DepDelay               0          100.000000\n",
       "12     CRSElapsedTime               0          100.000000\n",
       "13  ActualElapsedTime               0          100.000000\n",
       "14         CRSArrTime               0          100.000000\n",
       "15            ArrTime               0          100.000000\n",
       "16         CRSDepTime               0          100.000000\n",
       "17            DepTime               0          100.000000\n",
       "18          DayOfWeek               0          100.000000\n",
       "19         DayofMonth               0          100.000000\n",
       "20              Month               0          100.000000\n",
       "21            AirTime               0          100.000000\n",
       "22            Delayed               0          100.000000"
      ]
     },
     "execution_count": 21,
     "metadata": {},
     "output_type": "execute_result"
    }
   ],
   "source": [
    "missing_df = df.isnull().sum(axis=0).reset_index()\n",
    "missing_df.columns = ['variable', 'missing values']\n",
    "missing_df['filling factor (%)']=(df.shape[0]-missing_df['missing values'])/df.shape[0]*100\n",
    "missing_df.sort_values('filling factor (%)').reset_index(drop = True)"
   ]
  },
  {
   "cell_type": "code",
   "execution_count": 22,
   "metadata": {},
   "outputs": [],
   "source": [
    "df.fillna(0,inplace=True)"
   ]
  },
  {
   "cell_type": "markdown",
   "metadata": {},
   "source": [
    "\n",
    "### K-Nearest Neighbors "
   ]
  },
  {
   "cell_type": "code",
   "execution_count": 21,
   "metadata": {},
   "outputs": [],
   "source": [
    "df_sample=df.sample(500000)"
   ]
  },
  {
   "cell_type": "code",
   "execution_count": 22,
   "metadata": {},
   "outputs": [],
   "source": [
    "X = df_sample.drop(['Delayed'],axis=1)"
   ]
  },
  {
   "cell_type": "code",
   "execution_count": 23,
   "metadata": {},
   "outputs": [],
   "source": [
    "y = df_sample['Delayed']"
   ]
  },
  {
   "cell_type": "code",
   "execution_count": 24,
   "metadata": {},
   "outputs": [],
   "source": [
    "X_train, X_test, y_train, y_test = train_test_split(X, y, test_size=0.20)"
   ]
  },
  {
   "cell_type": "code",
   "execution_count": 26,
   "metadata": {},
   "outputs": [
    {
     "name": "stdout",
     "output_type": "stream",
     "text": [
      "Execution Time: 00:23:54\n"
     ]
    },
    {
     "data": {
      "text/plain": [
       "datetime.time(0, 23, 54)"
      ]
     },
     "execution_count": 26,
     "metadata": {},
     "output_type": "execute_result"
    }
   ],
   "source": [
    "start = time.time()\n",
    "classifier = KNeighborsClassifier(n_neighbors=5)\n",
    "classifier.fit(X_train, y_train)\n",
    "y_pred = classifier.predict(X_test)\n",
    "end=time.time()\n",
    "default_knn=exec_time(start,end)\n",
    "default_knn"
   ]
  },
  {
   "cell_type": "code",
   "execution_count": 27,
   "metadata": {},
   "outputs": [],
   "source": [
    "def PrintActualPredicted(act,pred):\n",
    "    df_print = pd.DataFrame({'Actual':act,'Predicted':pred})\n",
    "    return(df_print)\n"
   ]
  },
  {
   "cell_type": "code",
   "execution_count": 28,
   "metadata": {},
   "outputs": [
    {
     "data": {
      "text/html": [
       "<div>\n",
       "<style scoped>\n",
       "    .dataframe tbody tr th:only-of-type {\n",
       "        vertical-align: middle;\n",
       "    }\n",
       "\n",
       "    .dataframe tbody tr th {\n",
       "        vertical-align: top;\n",
       "    }\n",
       "\n",
       "    .dataframe thead th {\n",
       "        text-align: right;\n",
       "    }\n",
       "</style>\n",
       "<table border=\"1\" class=\"dataframe\">\n",
       "  <thead>\n",
       "    <tr style=\"text-align: right;\">\n",
       "      <th></th>\n",
       "      <th>Actual</th>\n",
       "      <th>Predicted</th>\n",
       "    </tr>\n",
       "  </thead>\n",
       "  <tbody>\n",
       "    <tr>\n",
       "      <th>1934599</th>\n",
       "      <td>1</td>\n",
       "      <td>1</td>\n",
       "    </tr>\n",
       "    <tr>\n",
       "      <th>516946</th>\n",
       "      <td>1</td>\n",
       "      <td>1</td>\n",
       "    </tr>\n",
       "    <tr>\n",
       "      <th>1306973</th>\n",
       "      <td>1</td>\n",
       "      <td>1</td>\n",
       "    </tr>\n",
       "    <tr>\n",
       "      <th>103326</th>\n",
       "      <td>1</td>\n",
       "      <td>1</td>\n",
       "    </tr>\n",
       "    <tr>\n",
       "      <th>170224</th>\n",
       "      <td>1</td>\n",
       "      <td>1</td>\n",
       "    </tr>\n",
       "    <tr>\n",
       "      <th>...</th>\n",
       "      <td>...</td>\n",
       "      <td>...</td>\n",
       "    </tr>\n",
       "    <tr>\n",
       "      <th>305339</th>\n",
       "      <td>1</td>\n",
       "      <td>1</td>\n",
       "    </tr>\n",
       "    <tr>\n",
       "      <th>1854658</th>\n",
       "      <td>1</td>\n",
       "      <td>1</td>\n",
       "    </tr>\n",
       "    <tr>\n",
       "      <th>1233230</th>\n",
       "      <td>1</td>\n",
       "      <td>1</td>\n",
       "    </tr>\n",
       "    <tr>\n",
       "      <th>31650</th>\n",
       "      <td>1</td>\n",
       "      <td>1</td>\n",
       "    </tr>\n",
       "    <tr>\n",
       "      <th>1049112</th>\n",
       "      <td>1</td>\n",
       "      <td>1</td>\n",
       "    </tr>\n",
       "  </tbody>\n",
       "</table>\n",
       "<p>100000 rows × 2 columns</p>\n",
       "</div>"
      ],
      "text/plain": [
       "         Actual  Predicted\n",
       "1934599       1          1\n",
       "516946        1          1\n",
       "1306973       1          1\n",
       "103326        1          1\n",
       "170224        1          1\n",
       "...         ...        ...\n",
       "305339        1          1\n",
       "1854658       1          1\n",
       "1233230       1          1\n",
       "31650         1          1\n",
       "1049112       1          1\n",
       "\n",
       "[100000 rows x 2 columns]"
      ]
     },
     "execution_count": 28,
     "metadata": {},
     "output_type": "execute_result"
    }
   ],
   "source": [
    "PrintActualPredicted(y_test,y_pred)"
   ]
  },
  {
   "cell_type": "markdown",
   "metadata": {},
   "source": [
    "#### Metrics\n"
   ]
  },
  {
   "cell_type": "markdown",
   "metadata": {},
   "source": [
    "***Accuracy***"
   ]
  },
  {
   "cell_type": "code",
   "execution_count": 29,
   "metadata": {},
   "outputs": [
    {
     "name": "stdout",
     "output_type": "stream",
     "text": [
      "Classification accuracy is:  0.92744 %\n"
     ]
    }
   ],
   "source": [
    "accKnn=metrics.accuracy_score(y_test,y_pred)\n",
    "print('Classification accuracy is: ',accKnn,'%')"
   ]
  },
  {
   "cell_type": "markdown",
   "metadata": {},
   "source": [
    "***Null accuracy***: accuracy that could be achieved by always predictin the most frequent class "
   ]
  },
  {
   "cell_type": "code",
   "execution_count": 30,
   "metadata": {},
   "outputs": [
    {
     "data": {
      "text/plain": [
       "1    89395\n",
       "0    10605\n",
       "Name: Delayed, dtype: int64"
      ]
     },
     "execution_count": 30,
     "metadata": {},
     "output_type": "execute_result"
    }
   ],
   "source": [
    "y_test.value_counts()"
   ]
  },
  {
   "cell_type": "code",
   "execution_count": 31,
   "metadata": {},
   "outputs": [
    {
     "data": {
      "text/plain": [
       "0.89395"
      ]
     },
     "execution_count": 31,
     "metadata": {},
     "output_type": "execute_result"
    }
   ],
   "source": [
    "y_test.mean()"
   ]
  },
  {
   "cell_type": "code",
   "execution_count": 32,
   "metadata": {},
   "outputs": [
    {
     "data": {
      "text/plain": [
       "0.10604999999999998"
      ]
     },
     "execution_count": 32,
     "metadata": {},
     "output_type": "execute_result"
    }
   ],
   "source": [
    "### percentage of zeros\n",
    "1-y_test.mean()"
   ]
  },
  {
   "cell_type": "code",
   "execution_count": 33,
   "metadata": {},
   "outputs": [
    {
     "data": {
      "text/plain": [
       "0.89395"
      ]
     },
     "execution_count": 33,
     "metadata": {},
     "output_type": "execute_result"
    }
   ],
   "source": [
    "max(y_test.mean(),1-y_test.mean())"
   ]
  },
  {
   "cell_type": "markdown",
   "metadata": {},
   "source": [
    "we can check out if our set is unbalanced checking balanced accuracy"
   ]
  },
  {
   "cell_type": "markdown",
   "metadata": {},
   "source": [
    "this mean that  a dum model that always predict 1 would be rigth 89% of the time  showing that accuracy is not that good as it's close to a dum model  "
   ]
  },
  {
   "cell_type": "code",
   "execution_count": 34,
   "metadata": {},
   "outputs": [
    {
     "name": "stdout",
     "output_type": "stream",
     "text": [
      "0.7421695778360686\n"
     ]
    }
   ],
   "source": [
    "print(metrics.balanced_accuracy_score(y_test,y_pred))"
   ]
  },
  {
   "cell_type": "markdown",
   "metadata": {},
   "source": [
    "balanced accuracy gives diferent result meaning that is unbalanced"
   ]
  },
  {
   "cell_type": "markdown",
   "metadata": {},
   "source": [
    "***Confusion matrix***"
   ]
  },
  {
   "cell_type": "code",
   "execution_count": 35,
   "metadata": {},
   "outputs": [
    {
     "name": "stdout",
     "output_type": "stream",
     "text": [
      "[[ 5377  5228]\n",
      " [ 2028 87367]]\n"
     ]
    }
   ],
   "source": [
    "confusion= metrics.confusion_matrix(y_test,y_pred)\n",
    "print(confusion)\n",
    "TP = confusion[1,1]\n",
    "TN = confusion[0,0] \n",
    "FP = confusion[0,1]\n",
    "FN = confusion[1,0]"
   ]
  },
  {
   "cell_type": "markdown",
   "metadata": {},
   "source": [
    "***Sensitivity*** When the actual value is positive, how often is the prediction correct?\n"
   ]
  },
  {
   "cell_type": "code",
   "execution_count": 36,
   "metadata": {},
   "outputs": [
    {
     "name": "stdout",
     "output_type": "stream",
     "text": [
      "0.9773141674590301\n"
     ]
    }
   ],
   "source": [
    "print(metrics.recall_score(y_test,y_pred))"
   ]
  },
  {
   "cell_type": "markdown",
   "metadata": {},
   "source": [
    "***Specificity*** When the actual value is negative, how often is the prediction correct?"
   ]
  },
  {
   "cell_type": "code",
   "execution_count": 37,
   "metadata": {},
   "outputs": [
    {
     "name": "stdout",
     "output_type": "stream",
     "text": [
      "0.507024988213107\n"
     ]
    }
   ],
   "source": [
    " specificity = TN / (TN+FP)\n",
    "print(specificity)"
   ]
  },
  {
   "cell_type": "markdown",
   "metadata": {},
   "source": [
    "our classifier is:\n",
    " - Highly sensitive\n",
    " - not so specific"
   ]
  },
  {
   "cell_type": "markdown",
   "metadata": {},
   "source": [
    "***False positive Rate*** \n"
   ]
  },
  {
   "cell_type": "code",
   "execution_count": 38,
   "metadata": {},
   "outputs": [
    {
     "name": "stdout",
     "output_type": "stream",
     "text": [
      "0.49297501178689296\n"
     ]
    }
   ],
   "source": [
    "print(1-specificity)"
   ]
  },
  {
   "cell_type": "markdown",
   "metadata": {},
   "source": [
    "***F1 Score***"
   ]
  },
  {
   "cell_type": "code",
   "execution_count": 39,
   "metadata": {},
   "outputs": [
    {
     "data": {
      "text/plain": [
       "0.9601296774548053"
      ]
     },
     "execution_count": 39,
     "metadata": {},
     "output_type": "execute_result"
    }
   ],
   "source": [
    "metrics.f1_score(y_test,y_pred)"
   ]
  },
  {
   "cell_type": "markdown",
   "metadata": {},
   "source": [
    "### Suport vector machine"
   ]
  },
  {
   "cell_type": "code",
   "execution_count": 40,
   "metadata": {},
   "outputs": [
    {
     "name": "stdout",
     "output_type": "stream",
     "text": [
      "Execution Time: 00:04:57\n"
     ]
    }
   ],
   "source": [
    "start = time.time()\n",
    "clf = svm.SVC(kernel='linear')\n",
    "clf.fit(X_train,y_train)\n",
    "end = time.time()\n",
    "default_svm=exec_time(start,end)"
   ]
  },
  {
   "cell_type": "code",
   "execution_count": 41,
   "metadata": {},
   "outputs": [],
   "source": [
    "y_pred = clf.predict(X_test)"
   ]
  },
  {
   "cell_type": "markdown",
   "metadata": {},
   "source": [
    "### Metrics"
   ]
  },
  {
   "cell_type": "markdown",
   "metadata": {},
   "source": [
    "***Accuracy***"
   ]
  },
  {
   "cell_type": "code",
   "execution_count": 42,
   "metadata": {},
   "outputs": [
    {
     "name": "stdout",
     "output_type": "stream",
     "text": [
      "Classification accuracy is:  100.0 %\n"
     ]
    }
   ],
   "source": [
    "accSvm=metrics.accuracy_score(y_test,y_pred)\n",
    "print('Classification accuracy is: ',accSvm*100,'%')"
   ]
  },
  {
   "cell_type": "markdown",
   "metadata": {},
   "source": [
    "***Confusion matrix***"
   ]
  },
  {
   "cell_type": "code",
   "execution_count": 43,
   "metadata": {},
   "outputs": [
    {
     "name": "stdout",
     "output_type": "stream",
     "text": [
      "[[10605     0]\n",
      " [    0 89395]]\n"
     ]
    }
   ],
   "source": [
    "confusion_svm = metrics.confusion_matrix(y_test,y_pred)\n",
    "print(confusion_svm)\n",
    "TP_svm = confusion_svm[1,1]\n",
    "TN_svm = confusion_svm[0,0]\n",
    "FP_svm = confusion_svm[0,1]\n",
    "FN_svm = confusion_svm[1,0]"
   ]
  },
  {
   "cell_type": "markdown",
   "metadata": {},
   "source": [
    "***Sensitivity***\n"
   ]
  },
  {
   "cell_type": "code",
   "execution_count": 44,
   "metadata": {},
   "outputs": [
    {
     "name": "stdout",
     "output_type": "stream",
     "text": [
      "1.0\n"
     ]
    }
   ],
   "source": [
    "print(metrics.recall_score(y_test,y_pred))"
   ]
  },
  {
   "cell_type": "markdown",
   "metadata": {},
   "source": [
    "***Specificity***"
   ]
  },
  {
   "cell_type": "code",
   "execution_count": 45,
   "metadata": {},
   "outputs": [
    {
     "name": "stdout",
     "output_type": "stream",
     "text": [
      "1.0\n"
     ]
    }
   ],
   "source": [
    "spec = TN_svm/(TN_svm+FP_svm)\n",
    "print(spec)"
   ]
  },
  {
   "cell_type": "markdown",
   "metadata": {},
   "source": [
    "***Precision***"
   ]
  },
  {
   "cell_type": "code",
   "execution_count": 46,
   "metadata": {},
   "outputs": [
    {
     "name": "stdout",
     "output_type": "stream",
     "text": [
      "1.0\n"
     ]
    }
   ],
   "source": [
    "\n",
    "print(metrics.precision_score(y_test,y_pred))"
   ]
  },
  {
   "cell_type": "markdown",
   "metadata": {},
   "source": [
    "***F1 Score***"
   ]
  },
  {
   "cell_type": "code",
   "execution_count": 48,
   "metadata": {},
   "outputs": [
    {
     "name": "stdout",
     "output_type": "stream",
     "text": [
      "1.0\n"
     ]
    }
   ],
   "source": [
    "f1_score_svm= metrics.f1_score(y_test,y_pred)\n",
    "print(f1_score_svm)"
   ]
  },
  {
   "cell_type": "markdown",
   "metadata": {},
   "source": [
    "### XGBoost"
   ]
  },
  {
   "cell_type": "code",
   "execution_count": 49,
   "metadata": {},
   "outputs": [],
   "source": [
    "data_dmatrix = xgb.DMatrix(data=X,label=y)"
   ]
  },
  {
   "cell_type": "code",
   "execution_count": 50,
   "metadata": {},
   "outputs": [
    {
     "name": "stdout",
     "output_type": "stream",
     "text": [
      "Execution Time: 00:00:15\n"
     ]
    }
   ],
   "source": [
    "start = time.time()\n",
    "xgb_class =xgb.XGBClassifier(eval_metric='mlogloss',use_label_encoder =False)\n",
    "xgb_class.fit(X_train,y_train)\n",
    "y_pred=xgb_class.predict(X_test)\n",
    "end = time.time()\n",
    "default_xgb=exec_time(start, end)"
   ]
  },
  {
   "cell_type": "code",
   "execution_count": 51,
   "metadata": {},
   "outputs": [
    {
     "data": {
      "text/html": [
       "<div>\n",
       "<style scoped>\n",
       "    .dataframe tbody tr th:only-of-type {\n",
       "        vertical-align: middle;\n",
       "    }\n",
       "\n",
       "    .dataframe tbody tr th {\n",
       "        vertical-align: top;\n",
       "    }\n",
       "\n",
       "    .dataframe thead th {\n",
       "        text-align: right;\n",
       "    }\n",
       "</style>\n",
       "<table border=\"1\" class=\"dataframe\">\n",
       "  <thead>\n",
       "    <tr style=\"text-align: right;\">\n",
       "      <th></th>\n",
       "      <th>Actual</th>\n",
       "      <th>Predicted</th>\n",
       "    </tr>\n",
       "  </thead>\n",
       "  <tbody>\n",
       "    <tr>\n",
       "      <th>1934599</th>\n",
       "      <td>1</td>\n",
       "      <td>1</td>\n",
       "    </tr>\n",
       "    <tr>\n",
       "      <th>516946</th>\n",
       "      <td>1</td>\n",
       "      <td>1</td>\n",
       "    </tr>\n",
       "    <tr>\n",
       "      <th>1306973</th>\n",
       "      <td>1</td>\n",
       "      <td>1</td>\n",
       "    </tr>\n",
       "    <tr>\n",
       "      <th>103326</th>\n",
       "      <td>1</td>\n",
       "      <td>1</td>\n",
       "    </tr>\n",
       "    <tr>\n",
       "      <th>170224</th>\n",
       "      <td>1</td>\n",
       "      <td>1</td>\n",
       "    </tr>\n",
       "    <tr>\n",
       "      <th>...</th>\n",
       "      <td>...</td>\n",
       "      <td>...</td>\n",
       "    </tr>\n",
       "    <tr>\n",
       "      <th>305339</th>\n",
       "      <td>1</td>\n",
       "      <td>1</td>\n",
       "    </tr>\n",
       "    <tr>\n",
       "      <th>1854658</th>\n",
       "      <td>1</td>\n",
       "      <td>1</td>\n",
       "    </tr>\n",
       "    <tr>\n",
       "      <th>1233230</th>\n",
       "      <td>1</td>\n",
       "      <td>1</td>\n",
       "    </tr>\n",
       "    <tr>\n",
       "      <th>31650</th>\n",
       "      <td>1</td>\n",
       "      <td>1</td>\n",
       "    </tr>\n",
       "    <tr>\n",
       "      <th>1049112</th>\n",
       "      <td>1</td>\n",
       "      <td>1</td>\n",
       "    </tr>\n",
       "  </tbody>\n",
       "</table>\n",
       "<p>100000 rows × 2 columns</p>\n",
       "</div>"
      ],
      "text/plain": [
       "         Actual  Predicted\n",
       "1934599       1          1\n",
       "516946        1          1\n",
       "1306973       1          1\n",
       "103326        1          1\n",
       "170224        1          1\n",
       "...         ...        ...\n",
       "305339        1          1\n",
       "1854658       1          1\n",
       "1233230       1          1\n",
       "31650         1          1\n",
       "1049112       1          1\n",
       "\n",
       "[100000 rows x 2 columns]"
      ]
     },
     "execution_count": 51,
     "metadata": {},
     "output_type": "execute_result"
    }
   ],
   "source": [
    "PrintActualPredicted(y_test,y_pred)"
   ]
  },
  {
   "cell_type": "markdown",
   "metadata": {},
   "source": [
    "### Metrics"
   ]
  },
  {
   "cell_type": "markdown",
   "metadata": {},
   "source": [
    "***Accuracy***"
   ]
  },
  {
   "cell_type": "code",
   "execution_count": 52,
   "metadata": {},
   "outputs": [
    {
     "name": "stdout",
     "output_type": "stream",
     "text": [
      "0.99161\n"
     ]
    }
   ],
   "source": [
    "accXgb = metrics.accuracy_score(y_test,y_pred)\n",
    "print(accXgb)"
   ]
  },
  {
   "cell_type": "markdown",
   "metadata": {},
   "source": [
    "***Confusion matrix***"
   ]
  },
  {
   "cell_type": "code",
   "execution_count": 53,
   "metadata": {},
   "outputs": [
    {
     "name": "stdout",
     "output_type": "stream",
     "text": [
      "[[10009   596]\n",
      " [  243 89152]]\n"
     ]
    }
   ],
   "source": [
    "confusion_xgb = metrics.confusion_matrix(y_test,y_pred)\n",
    "print(confusion_xgb)"
   ]
  },
  {
   "cell_type": "code",
   "execution_count": 54,
   "metadata": {},
   "outputs": [],
   "source": [
    "TP_xgb = confusion_xgb[1,1]\n",
    "TN_xgb = confusion_xgb[0,0]\n",
    "FP_xgb = confusion_xgb[0,1]\n",
    "FN_xgb = confusion_xgb[1,0]"
   ]
  },
  {
   "cell_type": "markdown",
   "metadata": {},
   "source": [
    "***Sensitivity***\n"
   ]
  },
  {
   "cell_type": "code",
   "execution_count": 55,
   "metadata": {},
   "outputs": [
    {
     "name": "stdout",
     "output_type": "stream",
     "text": [
      "0.9972817271659489\n"
     ]
    }
   ],
   "source": [
    "print(metrics.recall_score(y_test,y_pred))"
   ]
  },
  {
   "cell_type": "markdown",
   "metadata": {},
   "source": [
    "***Specificity***"
   ]
  },
  {
   "cell_type": "code",
   "execution_count": 56,
   "metadata": {},
   "outputs": [
    {
     "name": "stdout",
     "output_type": "stream",
     "text": [
      "0.9438000942951438\n"
     ]
    }
   ],
   "source": [
    "spec = TN_xgb/(TN_xgb+FP_xgb)\n",
    "print(spec)"
   ]
  },
  {
   "cell_type": "markdown",
   "metadata": {},
   "source": [
    "***Precision***"
   ]
  },
  {
   "cell_type": "code",
   "execution_count": 57,
   "metadata": {},
   "outputs": [
    {
     "name": "stdout",
     "output_type": "stream",
     "text": [
      "0.9933591834915542\n"
     ]
    }
   ],
   "source": [
    "print(metrics.precision_score(y_test,y_pred))"
   ]
  },
  {
   "cell_type": "markdown",
   "metadata": {},
   "source": [
    "***F1 Score***"
   ]
  },
  {
   "cell_type": "code",
   "execution_count": 58,
   "metadata": {},
   "outputs": [
    {
     "name": "stdout",
     "output_type": "stream",
     "text": [
      "0.9953165906566261\n"
     ]
    }
   ],
   "source": [
    "f1_score_xgb = metrics.f1_score(y_test,y_pred)\n",
    "print(f1_score_xgb)"
   ]
  },
  {
   "cell_type": "markdown",
   "metadata": {},
   "source": [
    "conclusion:\n",
    "the best model without threat features is svm with 100% on the metrics.On the other hand KNN is the worst model in terms of metrics and time processing"
   ]
  },
  {
   "cell_type": "markdown",
   "metadata": {},
   "source": [
    "## Exercici 3"
   ]
  },
  {
   "cell_type": "markdown",
   "metadata": {},
   "source": [
    "Entrena’ls utilitzant els diferents paràmetres que admeten."
   ]
  },
  {
   "cell_type": "markdown",
   "metadata": {},
   "source": [
    "### KNN "
   ]
  },
  {
   "cell_type": "code",
   "execution_count": 24,
   "metadata": {},
   "outputs": [],
   "source": [
    "params = {\n",
    "    'n_neighbors':[1,3,5,9,11,13],\n",
    "    'weights':['uniform','distance'],\n",
    "    'algorithm':['auto','ball_tree','kd_tree','brute'],\n",
    "    'leaf_size':[10,20,40,80],\n",
    "    'p':[1,2,5]\n",
    "}"
   ]
  },
  {
   "cell_type": "code",
   "execution_count": 25,
   "metadata": {},
   "outputs": [
    {
     "data": {
      "text/plain": [
       "[1, 3, 5, 9, 11, 13]"
      ]
     },
     "execution_count": 25,
     "metadata": {},
     "output_type": "execute_result"
    }
   ],
   "source": [
    "params['n_neighbors']"
   ]
  },
  {
   "cell_type": "code",
   "execution_count": 26,
   "metadata": {},
   "outputs": [],
   "source": [
    "df_sample=df.sample(500000)"
   ]
  },
  {
   "cell_type": "code",
   "execution_count": 27,
   "metadata": {},
   "outputs": [],
   "source": [
    "X=df_sample.drop(['Delayed'],axis=1)"
   ]
  },
  {
   "cell_type": "code",
   "execution_count": 28,
   "metadata": {},
   "outputs": [],
   "source": [
    "y=df_sample['Delayed']"
   ]
  },
  {
   "cell_type": "code",
   "execution_count": 29,
   "metadata": {},
   "outputs": [],
   "source": [
    "X_train, X_test, y_train, y_test = train_test_split(X, y)"
   ]
  },
  {
   "cell_type": "code",
   "execution_count": 30,
   "metadata": {},
   "outputs": [
    {
     "name": "stdout",
     "output_type": "stream",
     "text": [
      "Training set shape:  (375000, 22) (375000,)\n",
      "Testing set shape:  (125000, 22) (125000,)\n"
     ]
    }
   ],
   "source": [
    "print('Training set shape: ', X_train.shape, y_train.shape)\n",
    "print('Testing set shape: ', X_test.shape, y_test.shape)"
   ]
  },
  {
   "cell_type": "code",
   "execution_count": 31,
   "metadata": {},
   "outputs": [],
   "source": [
    "## calculating  the accuracy of models with diferents  neighbors\n",
    "acc_mean=[]\n",
    "for i in params['n_neighbors']:\n",
    "    knn = KNeighborsClassifier(n_neighbors = i)\n",
    "    knn.fit(X_train,y_train)\n",
    "    yhat= knn.predict(X_test)\n",
    "    acc_mean.append(metrics.accuracy_score(y_test,yhat))"
   ]
  },
  {
   "cell_type": "code",
   "execution_count": 32,
   "metadata": {},
   "outputs": [
    {
     "data": {
      "text/plain": [
       "[0.92328, 0.924648, 0.923984, 0.921424, 0.920016, 0.91848]"
      ]
     },
     "execution_count": 32,
     "metadata": {},
     "output_type": "execute_result"
    }
   ],
   "source": [
    "acc_mean"
   ]
  },
  {
   "cell_type": "code",
   "execution_count": 33,
   "metadata": {},
   "outputs": [
    {
     "data": {
      "image/png": "[encoded data removed]",
      "text/plain": [
       "<Figure size 720x432 with 1 Axes>"
      ]
     },
     "metadata": {
      "needs_background": "light"
     },
     "output_type": "display_data"
    }
   ],
   "source": [
    "\n",
    "plt.figure(figsize = (10, 6))\n",
    "plt.plot(params['n_neighbors'], acc_mean)\n",
    "plt.xticks(params['n_neighbors'])\n",
    "plt.xlabel('Number of Neighbors ')\n",
    "plt.ylabel('Accuracy')\n",
    "plt.show()"
   ]
  },
  {
   "cell_type": "code",
   "execution_count": 34,
   "metadata": {},
   "outputs": [
    {
     "name": "stdout",
     "output_type": "stream",
     "text": [
      "Execution Time: 00:00:28\n"
     ]
    }
   ],
   "source": [
    "start=time.time()\n",
    "clss = KNeighborsClassifier(n_neighbors=3,weights=params['weights'][1],p=params['p'][0],algorithm=params['algorithm'][2])\n",
    "clss.fit(X_train,y_train)\n",
    "y_predict=clss.predict(X_test)\n",
    "end=time.time()\n",
    "ht_Knn= exec_time(start,end)"
   ]
  },
  {
   "cell_type": "code",
   "execution_count": 35,
   "metadata": {},
   "outputs": [
    {
     "name": "stdout",
     "output_type": "stream",
     "text": [
      "Accuracy\n",
      "0.926696\n",
      "F1 score:\n",
      " 0.9593671149897786\n",
      "[[  7665   5670]\n",
      " [  3493 108172]]\n"
     ]
    }
   ],
   "source": [
    "print('Accuracy')\n",
    "knn_ht_acc=metrics.accuracy_score(y_test,y_predict)\n",
    "print(knn_ht_acc)\n",
    "knn_ht_f1=metrics.f1_score(y_test,y_predict)\n",
    "print('F1 score:\\n',knn_ht_f1)\n",
    "print(metrics.confusion_matrix(y_test,y_predict))"
   ]
  },
  {
   "cell_type": "markdown",
   "metadata": {},
   "source": [
    "the metrics are better than default mode"
   ]
  },
  {
   "cell_type": "markdown",
   "metadata": {},
   "source": [
    "### SVM"
   ]
  },
  {
   "cell_type": "code",
   "execution_count": 69,
   "metadata": {},
   "outputs": [],
   "source": [
    "kernels = ['Polynomial', 'Sigmoid','Linear']\n",
    "def getClassifier(kernel):\n",
    "    \n",
    "    if kernel=='Polynomial':\n",
    "        return svm.SVC(kernel='poly',degree=5,gamma='auto')\n",
    "   \n",
    "    elif kernel == 'Sigmoid':\n",
    "        return svm.SVC(kernel='sigmoid',gamma='auto')\n",
    "    elif kernel == 'Linear':\n",
    "        return svm.SVC(kernel='linear',gamma='auto')"
   ]
  },
  {
   "cell_type": "code",
   "execution_count": 70,
   "metadata": {},
   "outputs": [
    {
     "name": "stdout",
     "output_type": "stream",
     "text": [
      "fitting the model\n",
      "predicting new values\n",
      "Execution Time: 00:08:02\n",
      "Evaluation of Polynomial kernel\n",
      "              precision    recall  f1-score   support\n",
      "\n",
      "           0       1.00      1.00      1.00     10552\n",
      "           1       1.00      1.00      1.00     89448\n",
      "\n",
      "    accuracy                           1.00    100000\n",
      "   macro avg       1.00      1.00      1.00    100000\n",
      "weighted avg       1.00      1.00      1.00    100000\n",
      "\n",
      "fitting the model\n",
      "predicting new values\n",
      "Execution Time: 00:27:29\n",
      "Evaluation of Sigmoid kernel\n",
      "              precision    recall  f1-score   support\n",
      "\n",
      "           0       0.00      0.00      0.00     10672\n",
      "           1       0.89      1.00      0.94     89328\n",
      "\n",
      "    accuracy                           0.89    100000\n",
      "   macro avg       0.45      0.50      0.47    100000\n",
      "weighted avg       0.80      0.89      0.84    100000\n",
      "\n"
     ]
    },
    {
     "name": "stderr",
     "output_type": "stream",
     "text": [
      "C:\\Users\\adria\\anaconda3\\lib\\site-packages\\sklearn\\metrics\\_classification.py:1248: UndefinedMetricWarning: Precision and F-score are ill-defined and being set to 0.0 in labels with no predicted samples. Use `zero_division` parameter to control this behavior.\n",
      "  _warn_prf(average, modifier, msg_start, len(result))\n",
      "C:\\Users\\adria\\anaconda3\\lib\\site-packages\\sklearn\\metrics\\_classification.py:1248: UndefinedMetricWarning: Precision and F-score are ill-defined and being set to 0.0 in labels with no predicted samples. Use `zero_division` parameter to control this behavior.\n",
      "  _warn_prf(average, modifier, msg_start, len(result))\n",
      "C:\\Users\\adria\\anaconda3\\lib\\site-packages\\sklearn\\metrics\\_classification.py:1248: UndefinedMetricWarning: Precision and F-score are ill-defined and being set to 0.0 in labels with no predicted samples. Use `zero_division` parameter to control this behavior.\n",
      "  _warn_prf(average, modifier, msg_start, len(result))\n"
     ]
    },
    {
     "name": "stdout",
     "output_type": "stream",
     "text": [
      "fitting the model\n",
      "predicting new values\n",
      "Execution Time: 00:02:21\n",
      "Evaluation of Linear kernel\n",
      "              precision    recall  f1-score   support\n",
      "\n",
      "           0       1.00      1.00      1.00     10704\n",
      "           1       1.00      1.00      1.00     89296\n",
      "\n",
      "    accuracy                           1.00    100000\n",
      "   macro avg       1.00      1.00      1.00    100000\n",
      "weighted avg       1.00      1.00      1.00    100000\n",
      "\n"
     ]
    }
   ],
   "source": [
    "acc =[]\n",
    "time_svm =[]\n",
    "for i in kernels:\n",
    "    start = time.time()\n",
    "    X_train, X_test, y_train, y_test = train_test_split(X, y, test_size = 0.20)\n",
    "    svcclassifier = getClassifier(i)\n",
    "    print('fitting the model')\n",
    "    svcclassifier.fit(X_train,y_train)\n",
    "    print('predicting new values')\n",
    "    y_pred=svcclassifier.predict(X_test)\n",
    "    end = time.time()\n",
    "    ht_svm=exec_time(start,end)\n",
    "    time_svm.append(ht_svm)\n",
    "    print('Evaluation of',i,'kernel') \n",
    "    acc.append(metrics.accuracy_score(y_test,y_pred))\n",
    "    print(metrics.classification_report(y_test,y_pred))"
   ]
  },
  {
   "cell_type": "markdown",
   "metadata": {},
   "source": [
    " as we can see exept rbf kernel wich i did not compute due the extense comupting time , the other kernels  gives good results"
   ]
  },
  {
   "cell_type": "markdown",
   "metadata": {},
   "source": [
    "### XGBoost"
   ]
  },
  {
   "cell_type": "code",
   "execution_count": 72,
   "metadata": {},
   "outputs": [],
   "source": [
    "df_sample=df.sample(500000)\n",
    "\n",
    "X = df_sample.drop(['Delayed'],axis=1)\n",
    "\n",
    "y = df_sample['Delayed']"
   ]
  },
  {
   "cell_type": "code",
   "execution_count": 73,
   "metadata": {},
   "outputs": [],
   "source": [
    "X_train, X_test, y_train, y_test = train_test_split(X, y, test_size = 0.20)"
   ]
  },
  {
   "cell_type": "code",
   "execution_count": 74,
   "metadata": {},
   "outputs": [],
   "source": [
    "xgbparams={\n",
    "    'max_depth':[2,4,8,16,30],\n",
    "    'subsample':[0.2,0.4,0.8,1],\n",
    "    'n_estimators':[10,20,40,60,80],\n",
    "    'learning_rate':[0.2,0.4,0.8,1]\n",
    "}"
   ]
  },
  {
   "cell_type": "code",
   "execution_count": 27,
   "metadata": {},
   "outputs": [
    {
     "name": "stdout",
     "output_type": "stream",
     "text": [
      "Training accuracy 0.995695\n",
      "Test accuracy 0.9919\n"
     ]
    }
   ],
   "source": [
    "train_acc=[]\n",
    "test_acc=[]\n",
    "\n",
    "model=xgb.XGBClassifier(eval_metric='mlogloss',use_label_encoder =False)\n",
    "model.fit(X_train,y_train)\n",
    "\n",
    "y_predict=model.predict(X_test)\n",
    "y_train_predict=model.predict(X_train)\n",
    "print('Training accuracy',metrics.accuracy_score(y_train,y_train_predict))\n",
    "print('Test accuracy',metrics.accuracy_score(y_test,y_predict))"
   ]
  },
  {
   "cell_type": "code",
   "execution_count": 77,
   "metadata": {},
   "outputs": [
    {
     "name": "stdout",
     "output_type": "stream",
     "text": [
      "max_depth 2\n",
      "Training accuracy 0.9492825\n",
      "test accuracy 0.94946\n",
      "max_depth 4\n",
      "Training accuracy 0.98478\n",
      "test accuracy 0.9823\n",
      "max_depth 8\n",
      "Training accuracy 0.99921\n",
      "test accuracy 0.99389\n",
      "max_depth 16\n",
      "Training accuracy 1.0\n",
      "test accuracy 0.99495\n",
      "max_depth 30\n",
      "Training accuracy 1.0\n",
      "test accuracy 0.99487\n",
      "Execution Time: 00:01:44\n",
      "subsample 0.2\n",
      "Training accuracy 0.9922125\n",
      "test accuracy 0.98898\n",
      "subsample 0.4\n",
      "Training accuracy 0.99427\n",
      "test accuracy 0.99093\n",
      "subsample 0.8\n",
      "Training accuracy 0.99527\n",
      "test accuracy 0.99138\n",
      "subsample 1\n",
      "Training accuracy 0.9956125\n",
      "test accuracy 0.99117\n",
      "Execution Time: 00:00:49\n",
      "n_estimators 10\n",
      "Training accuracy 0.9339\n",
      "test accuracy 0.9336\n",
      "n_estimators 20\n",
      "Training accuracy 0.9446625\n",
      "test accuracy 0.94333\n",
      "n_estimators 40\n",
      "Training accuracy 0.9804975\n",
      "test accuracy 0.97719\n",
      "n_estimators 60\n",
      "Training accuracy 0.9901075\n",
      "test accuracy 0.98642\n",
      "n_estimators 80\n",
      "Training accuracy 0.9938775\n",
      "test accuracy 0.9897\n",
      "Execution Time: 00:00:22\n",
      "learning_rate 0.2\n",
      "Training accuracy 0.99234\n",
      "test accuracy 0.98861\n",
      "learning_rate 0.4\n",
      "Training accuracy 0.996915\n",
      "test accuracy 0.99306\n",
      "learning_rate 0.8\n",
      "Training accuracy 0.99882\n",
      "test accuracy 0.99354\n",
      "learning_rate 1\n",
      "Training accuracy 0.99911\n",
      "test accuracy 0.99331\n",
      "Execution Time: 00:00:43\n"
     ]
    }
   ],
   "source": [
    "acc_ht_xgb=[]\n",
    "for k,v in xgbparams.items():\n",
    "    start = time.time()\n",
    "    if k=='max_depth':\n",
    "        max_depth_train_acc=[]\n",
    "        max_depth_test_acc=[]\n",
    "        for value in v:\n",
    "            print(k,value)\n",
    "            model=xgb.XGBClassifier(max_depth=value,eval_metric='mlogloss',use_label_encoder =False)\n",
    "            model.fit(X_train,y_train)\n",
    "            y_predict=model.predict(X_test)\n",
    "            y_train_predict=model.predict(X_train)\n",
    "            train_ac=metrics.accuracy_score(y_train,y_train_predict)\n",
    "            test_ac=metrics.accuracy_score(y_test,y_predict)\n",
    "            print('Training accuracy',train_ac)\n",
    "            max_depth_train_acc.append(train_ac)\n",
    "            print('test accuracy',test_ac)\n",
    "            max_depth_test_acc.append(test_ac)\n",
    "            \n",
    "    elif k=='subsample':\n",
    "        subsample_train_acc=[]\n",
    "        subsample_test_acc=[]\n",
    "        for value in v:\n",
    "            print(k,value)\n",
    "            model=xgb.XGBClassifier(subsample=value,eval_metric='mlogloss',use_label_encoder =False)\n",
    "            model.fit(X_train,y_train)\n",
    "            y_predict=model.predict(X_test)\n",
    "            y_train_predict=model.predict(X_train)\n",
    "            train_ac=metrics.accuracy_score(y_train,y_train_predict)\n",
    "            test_ac=metrics.accuracy_score(y_test,y_predict)\n",
    "            print('Training accuracy',train_ac)\n",
    "            subsample_train_acc.append(train_ac)\n",
    "            print('test accuracy',test_ac)\n",
    "            subsample_test_acc.append(test_ac)\n",
    "    elif k == 'n_estimators':\n",
    "        n_estimators_train_acc=[]\n",
    "        n_estimators_test_acc=[]\n",
    "        for value in v:\n",
    "            print(k,value)\n",
    "            model=xgb.XGBClassifier(n_estimators=value,eval_metric='mlogloss',use_label_encoder =False)\n",
    "            model.fit(X_train,y_train)\n",
    "            y_predict=model.predict(X_test)\n",
    "            y_train_predict=model.predict(X_train)\n",
    "            train_ac=metrics.accuracy_score(y_train,y_train_predict)\n",
    "            test_ac=metrics.accuracy_score(y_test,y_predict)\n",
    "            print('Training accuracy',train_ac)\n",
    "            n_estimators_train_acc.append(train_ac)\n",
    "            print('test accuracy',test_ac)\n",
    "            n_estimators_test_acc.append(test_ac)\n",
    "    elif k == 'learning_rate':\n",
    "        learning_train_acc=[]\n",
    "        learning_test_acc=[]\n",
    "        for value in v:\n",
    "            print(k,value)\n",
    "            model=xgb.XGBClassifier(learning_rate=value,eval_metric='mlogloss',use_label_encoder =False)\n",
    "            model.fit(X_train,y_train)\n",
    "            y_predict=model.predict(X_test)\n",
    "            y_train_predict=model.predict(X_train)\n",
    "            train_ac=metrics.accuracy_score(y_train,y_train_predict)\n",
    "            test_ac=metrics.accuracy_score(y_test,y_predict)\n",
    "            print('Training accuracy',train_ac)\n",
    "            learning_train_acc.append(train_ac)\n",
    "            print('test accuracy',test_ac)\n",
    "            learning_test_acc.append(test_ac)\n",
    "    end = time.time()\n",
    "    ht_xgb=exec_time(start,end)\n",
    "    acc_ht_xgb.append(ht_xgb)\n",
    "            "
   ]
  },
  {
   "cell_type": "code",
   "execution_count": 62,
   "metadata": {},
   "outputs": [],
   "source": [
    "\n",
    "def xgbplot(k,train,test):\n",
    "        plt.figure(figsize = (10, 6))\n",
    "        plt.plot(xgbparams[k],train,label='Train accuracy')\n",
    "        plt.plot(xgbparams[k],test,label='test accuracy')\n",
    "        plt.xticks(xgbparams[k])\n",
    "        plt.xlabel('Number of {}'.format(k))\n",
    "        plt.ylabel('Accuracy')\n",
    "        plt.legend()\n",
    "        plt.show()"
   ]
  },
  {
   "cell_type": "code",
   "execution_count": 63,
   "metadata": {},
   "outputs": [
    {
     "data": {
      "image/png": "[encoded data removed]",
      "text/plain": [
       "<Figure size 720x432 with 1 Axes>"
      ]
     },
     "metadata": {
      "needs_background": "light"
     },
     "output_type": "display_data"
    },
    {
     "data": {
      "image/png": "[encoded data removed]",
      "text/plain": [
       "<Figure size 720x432 with 1 Axes>"
      ]
     },
     "metadata": {
      "needs_background": "light"
     },
     "output_type": "display_data"
    },
    {
     "data": {
      "image/png": "[encoded data removed]",
      "text/plain": [
       "<Figure size 720x432 with 1 Axes>"
      ]
     },
     "metadata": {
      "needs_background": "light"
     },
     "output_type": "display_data"
    },
    {
     "data": {
      "image/png": "[encoded data removed]",
      "text/plain": [
       "<Figure size 720x432 with 1 Axes>"
      ]
     },
     "metadata": {
      "needs_background": "light"
     },
     "output_type": "display_data"
    }
   ],
   "source": [
    "for k,v in xgbparams.items():\n",
    "    if k =='max_depth':\n",
    "        xgbplot(k,max_depth_train_acc,max_depth_test_acc)\n",
    "    elif k =='subsample':\n",
    "        xgbplot(k,subsample_train_acc,subsample_test_acc)\n",
    "    elif k =='n_estimators':\n",
    "        xgbplot(k,n_estimators_train_acc,n_estimators_test_acc)\n",
    "    elif k =='learning_rate':\n",
    "        xgbplot(k,learning_train_acc,learning_test_acc)\n",
    "    "
   ]
  },
  {
   "cell_type": "code",
   "execution_count": 163,
   "metadata": {},
   "outputs": [
    {
     "name": "stdout",
     "output_type": "stream",
     "text": [
      "Execution Time: 00:00:13\n",
      "accuracy 0.99362\n",
      "confusion matrix\n",
      " [[10202   414]\n",
      " [  224 89160]]\n",
      "f1 score 0.9964349176901843\n"
     ]
    }
   ],
   "source": [
    "start = time.time()\n",
    "xgb_class =xgb.XGBClassifier(max_depth=8,subsample=0.8,n_estimators=80,learning_rate=0.4,eval_metric='mlogloss',use_label_encoder =False)\n",
    "X_train, X_test, y_train, y_test = train_test_split(X, y, test_size = 0.20)\n",
    "xgb_class.fit(X_train,y_train)\n",
    "yxgb_pred=xgb_class.predict(X_test)\n",
    "end = time.time()\n",
    "ht_time_xgb = exec_time(start,end)\n",
    "ht_xgb_acc =metrics.accuracy_score(y_test,yxgb_pred)\n",
    "xgb_confusion = metrics.confusion_matrix(y_test,yxgb_pred)\n",
    "xgb_f1_score = metrics.f1_score(y_test,yxgb_pred)\n",
    "print('accuracy',ht_xgb_acc)\n",
    "print('confusion matrix\\n', xgb_confusion)\n",
    "print('f1 score',xgb_f1_score)"
   ]
  },
  {
   "cell_type": "markdown",
   "metadata": {},
   "source": [
    "## Exercici 4 \n",
    "Compara el seu rendiment utilitzant l’aproximació traint/test o cross-validation"
   ]
  },
  {
   "cell_type": "code",
   "execution_count": 83,
   "metadata": {},
   "outputs": [],
   "source": [
    "df_sample=df.sample(500000)"
   ]
  },
  {
   "cell_type": "code",
   "execution_count": 84,
   "metadata": {},
   "outputs": [],
   "source": [
    "X=df_sample.drop(['Delayed'],axis=1)"
   ]
  },
  {
   "cell_type": "code",
   "execution_count": 85,
   "metadata": {},
   "outputs": [],
   "source": [
    "y=df_sample['Delayed']"
   ]
  },
  {
   "cell_type": "markdown",
   "metadata": {},
   "source": [
    "***KNN cross validation***"
   ]
  },
  {
   "cell_type": "code",
   "execution_count": 89,
   "metadata": {},
   "outputs": [
    {
     "name": "stdout",
     "output_type": "stream",
     "text": [
      "Execution Time: 01:13:53\n"
     ]
    },
    {
     "data": {
      "text/plain": [
       "datetime.time(1, 13, 53)"
      ]
     },
     "execution_count": 89,
     "metadata": {},
     "output_type": "execute_result"
    }
   ],
   "source": [
    "\n",
    "start = time.time()\n",
    "knn = KNeighborsClassifier(n_neighbors=5)\n",
    "scores = cross_val_score(knn,X,y,cv=5)\n",
    "end = time.time()\n",
    "knn_crossval_time = exec_time(start,end)\n",
    "knn_crossval_time "
   ]
  },
  {
   "cell_type": "code",
   "execution_count": 90,
   "metadata": {},
   "outputs": [
    {
     "data": {
      "text/plain": [
       "0.9262119999999999"
      ]
     },
     "execution_count": 90,
     "metadata": {},
     "output_type": "execute_result"
    }
   ],
   "source": [
    " scores.mean()"
   ]
  },
  {
   "cell_type": "markdown",
   "metadata": {},
   "source": [
    "***SVM cross validation***"
   ]
  },
  {
   "cell_type": "code",
   "execution_count": 92,
   "metadata": {},
   "outputs": [
    {
     "name": "stdout",
     "output_type": "stream",
     "text": [
      "Execution Time: 00:07:34\n"
     ]
    }
   ],
   "source": [
    "\n",
    "start=time.time()\n",
    "clsvm = svm.SVC(kernel='linear')\n",
    "score_svm =cross_val_score(clsvm,X,y,cv=5)\n",
    "end = time.time()\n",
    "svm_cross_val_time = exec_time(start,end)\n"
   ]
  },
  {
   "cell_type": "code",
   "execution_count": 93,
   "metadata": {},
   "outputs": [
    {
     "data": {
      "text/plain": [
       "1.0"
      ]
     },
     "execution_count": 93,
     "metadata": {},
     "output_type": "execute_result"
    }
   ],
   "source": [
    "score_svm.mean()"
   ]
  },
  {
   "cell_type": "markdown",
   "metadata": {},
   "source": [
    "***XGBoost cross validation***"
   ]
  },
  {
   "cell_type": "code",
   "execution_count": 94,
   "metadata": {},
   "outputs": [
    {
     "name": "stdout",
     "output_type": "stream",
     "text": [
      "Execution Time: 00:00:45\n"
     ]
    }
   ],
   "source": [
    "\n",
    "start = time.time()\n",
    "xgbCls=xgb.XGBClassifier(eval_metric='mlogloss',use_label_encoder =False)\n",
    "score_xgb=cross_val_score(xgbCls,X,y,cv=5)\n",
    "end = time.time()\n",
    "xgb_crossval_time = exec_time(start,end)"
   ]
  },
  {
   "cell_type": "code",
   "execution_count": 95,
   "metadata": {},
   "outputs": [
    {
     "data": {
      "text/plain": [
       "0.9918099999999999"
      ]
     },
     "execution_count": 95,
     "metadata": {},
     "output_type": "execute_result"
    }
   ],
   "source": [
    "score_xgb.mean()"
   ]
  },
  {
   "cell_type": "code",
   "execution_count": 96,
   "metadata": {},
   "outputs": [],
   "source": [
    "cvdf= pd.DataFrame({'KNN':scores.mean(),'SVM':score_svm.mean(),'Xgboost':score_xgb.mean()},index=['cross val accuracy mean'])"
   ]
  },
  {
   "cell_type": "code",
   "execution_count": 231,
   "metadata": {},
   "outputs": [],
   "source": [
    "cvdf1= pd.DataFrame({'KNN':scores,'SVM':score_svm,'Xgboost':score_xgb})\n"
   ]
  },
  {
   "cell_type": "code",
   "execution_count": 233,
   "metadata": {},
   "outputs": [
    {
     "data": {
      "text/html": [
       "<div>\n",
       "<style scoped>\n",
       "    .dataframe tbody tr th:only-of-type {\n",
       "        vertical-align: middle;\n",
       "    }\n",
       "\n",
       "    .dataframe tbody tr th {\n",
       "        vertical-align: top;\n",
       "    }\n",
       "\n",
       "    .dataframe thead th {\n",
       "        text-align: right;\n",
       "    }\n",
       "</style>\n",
       "<table border=\"1\" class=\"dataframe\">\n",
       "  <thead>\n",
       "    <tr style=\"text-align: right;\">\n",
       "      <th></th>\n",
       "      <th>KNN</th>\n",
       "      <th>SVM</th>\n",
       "      <th>Xgboost</th>\n",
       "    </tr>\n",
       "  </thead>\n",
       "  <tbody>\n",
       "    <tr>\n",
       "      <th>cross val accuracy mean</th>\n",
       "      <td>0.926212</td>\n",
       "      <td>1.0</td>\n",
       "      <td>0.99181</td>\n",
       "    </tr>\n",
       "  </tbody>\n",
       "</table>\n",
       "</div>"
      ],
      "text/plain": [
       "                              KNN  SVM  Xgboost\n",
       "cross val accuracy mean  0.926212  1.0  0.99181"
      ]
     },
     "execution_count": 233,
     "metadata": {},
     "output_type": "execute_result"
    }
   ],
   "source": [
    "cvdf"
   ]
  },
  {
   "cell_type": "code",
   "execution_count": 98,
   "metadata": {},
   "outputs": [
    {
     "data": {
      "text/plain": [
       "(0.92744, 1.0, 0.99161)"
      ]
     },
     "execution_count": 98,
     "metadata": {},
     "output_type": "execute_result"
    }
   ],
   "source": [
    "accKnn,accSvm,accXgb"
   ]
  },
  {
   "cell_type": "code",
   "execution_count": 99,
   "metadata": {},
   "outputs": [],
   "source": [
    "tt_acc = pd.Series(data={'KNN':accKnn,'SVM':accSvm,'Xgboost':accXgb},name='train test accuracy')"
   ]
  },
  {
   "cell_type": "code",
   "execution_count": 100,
   "metadata": {},
   "outputs": [
    {
     "data": {
      "text/html": [
       "<div>\n",
       "<style scoped>\n",
       "    .dataframe tbody tr th:only-of-type {\n",
       "        vertical-align: middle;\n",
       "    }\n",
       "\n",
       "    .dataframe tbody tr th {\n",
       "        vertical-align: top;\n",
       "    }\n",
       "\n",
       "    .dataframe thead th {\n",
       "        text-align: right;\n",
       "    }\n",
       "</style>\n",
       "<table border=\"1\" class=\"dataframe\">\n",
       "  <thead>\n",
       "    <tr style=\"text-align: right;\">\n",
       "      <th></th>\n",
       "      <th>KNN</th>\n",
       "      <th>SVM</th>\n",
       "      <th>Xgboost</th>\n",
       "    </tr>\n",
       "  </thead>\n",
       "  <tbody>\n",
       "    <tr>\n",
       "      <th>cross val accuracy mean</th>\n",
       "      <td>0.926212</td>\n",
       "      <td>1.0</td>\n",
       "      <td>0.99181</td>\n",
       "    </tr>\n",
       "    <tr>\n",
       "      <th>train test accuracy</th>\n",
       "      <td>0.927440</td>\n",
       "      <td>1.0</td>\n",
       "      <td>0.99161</td>\n",
       "    </tr>\n",
       "  </tbody>\n",
       "</table>\n",
       "</div>"
      ],
      "text/plain": [
       "                              KNN  SVM  Xgboost\n",
       "cross val accuracy mean  0.926212  1.0  0.99181\n",
       "train test accuracy      0.927440  1.0  0.99161"
      ]
     },
     "execution_count": 100,
     "metadata": {},
     "output_type": "execute_result"
    }
   ],
   "source": [
    "cvdf.append(tt_acc,ignore_index=False)"
   ]
  },
  {
   "cell_type": "markdown",
   "metadata": {},
   "source": [
    "the results show no significant variance between cross validation and train test perfomance"
   ]
  },
  {
   "cell_type": "markdown",
   "metadata": {},
   "source": [
    "### Nivell 2\n",
    "#### Exercici 5\n",
    "Realitza algun procés d’enginyeria de variables per millorar-ne la predicció"
   ]
  },
  {
   "cell_type": "markdown",
   "metadata": {},
   "source": [
    "We will try to optimize the performance of KNN and Xgboost, we will not use SVM because it have 100% of correct predictions "
   ]
  },
  {
   "cell_type": "code",
   "execution_count": 41,
   "metadata": {},
   "outputs": [],
   "source": [
    "df_sample=df.sample(50000)\n",
    "\n",
    "X = df_sample.drop(['Delayed'],axis=1)\n",
    "\n",
    "y = df_sample['Delayed']"
   ]
  },
  {
   "cell_type": "code",
   "execution_count": 42,
   "metadata": {},
   "outputs": [],
   "source": [
    "corr_matrix =df_sample.corr()"
   ]
  },
  {
   "cell_type": "code",
   "execution_count": 43,
   "metadata": {},
   "outputs": [
    {
     "data": {
      "text/plain": [
       "<AxesSubplot:>"
      ]
     },
     "execution_count": 43,
     "metadata": {},
     "output_type": "execute_result"
    },
    {
     "data": {
      "image/png": "[encoded data removed]",
      "text/plain": [
       "<Figure size 1440x864 with 2 Axes>"
      ]
     },
     "metadata": {
      "needs_background": "light"
     },
     "output_type": "display_data"
    }
   ],
   "source": [
    "plt.figure(figsize=(20,12))\n",
    "matrix = np.triu(corr_matrix)\n",
    "\n",
    "\n",
    "sns.heatmap(corr_matrix, center=0, annot=True, \n",
    "                fmt='.2f', cmap='coolwarm',mask=matrix)"
   ]
  },
  {
   "cell_type": "markdown",
   "metadata": {},
   "source": [
    "***Min Max Scaler***"
   ]
  },
  {
   "cell_type": "code",
   "execution_count": 144,
   "metadata": {},
   "outputs": [],
   "source": [
    "scaler = MinMaxScaler()"
   ]
  },
  {
   "cell_type": "code",
   "execution_count": 27,
   "metadata": {},
   "outputs": [],
   "source": [
    "Xs=scaler.fit_transform(X)"
   ]
  },
  {
   "cell_type": "markdown",
   "metadata": {},
   "source": [
    "***KNN***"
   ]
  },
  {
   "cell_type": "code",
   "execution_count": null,
   "metadata": {},
   "outputs": [],
   "source": [
    "clss = KNeighborsClassifier(n_neighbors=8,weights=params['weights'][1],p=params['p'][0],algorithm=params['algorithm'][2],n_jobs=-1)"
   ]
  },
  {
   "cell_type": "code",
   "execution_count": 134,
   "metadata": {},
   "outputs": [
    {
     "data": {
      "text/plain": [
       "KNeighborsClassifier(n_jobs=-1, n_neighbors=8, p=1)"
      ]
     },
     "execution_count": 134,
     "metadata": {},
     "output_type": "execute_result"
    }
   ],
   "source": [
    "clsKnn.fit(X_train,y_train)"
   ]
  },
  {
   "cell_type": "code",
   "execution_count": 135,
   "metadata": {},
   "outputs": [],
   "source": [
    "yKnn_pred=clsKnn.predict(X_test)"
   ]
  },
  {
   "cell_type": "code",
   "execution_count": 136,
   "metadata": {},
   "outputs": [
    {
     "name": "stdout",
     "output_type": "stream",
     "text": [
      "accuracy 0.884232\n",
      "confusion matrix\n",
      " [[  1960  11336]\n",
      " [  3135 108569]]\n",
      "f1 score 0.9375196991481334\n"
     ]
    }
   ],
   "source": [
    "knn_acc =metrics.accuracy_score(y_test,yKnn_pred)\n",
    "knn_confusion = metrics.confusion_matrix(y_test,yKnn_pred)\n",
    "knn_f1_score = metrics.f1_score(y_test,yKnn_pred)\n",
    "print('accuracy',knn_acc)\n",
    "print('confusion matrix\\n', knn_confusion)\n",
    "print('f1 score',knn_f1_score)"
   ]
  },
  {
   "cell_type": "markdown",
   "metadata": {},
   "source": [
    "through min max scaler we improve the metrics of knn"
   ]
  },
  {
   "cell_type": "markdown",
   "metadata": {},
   "source": [
    "***XGboost***"
   ]
  },
  {
   "cell_type": "code",
   "execution_count": 164,
   "metadata": {},
   "outputs": [],
   "source": [
    "xgb_class =xgb.XGBClassifier(max_depth=8,subsample=0.8,n_estimators=80,learning_rate=0.4,eval_metric='mlogloss',use_label_encoder =False)"
   ]
  },
  {
   "cell_type": "code",
   "execution_count": 165,
   "metadata": {},
   "outputs": [
    {
     "data": {
      "text/plain": [
       "XGBClassifier(base_score=0.5, booster='gbtree', colsample_bylevel=1,\n",
       "              colsample_bynode=1, colsample_bytree=1, eval_metric='mlogloss',\n",
       "              gamma=0, gpu_id=-1, importance_type='gain',\n",
       "              interaction_constraints='', learning_rate=0.4, max_delta_step=0,\n",
       "              max_depth=8, min_child_weight=1, missing=nan,\n",
       "              monotone_constraints='()', n_estimators=80, n_jobs=12,\n",
       "              num_parallel_tree=1, random_state=0, reg_alpha=0, reg_lambda=1,\n",
       "              scale_pos_weight=1, subsample=0.8, tree_method='exact',\n",
       "              use_label_encoder=False, validate_parameters=1, verbosity=None)"
      ]
     },
     "execution_count": 165,
     "metadata": {},
     "output_type": "execute_result"
    }
   ],
   "source": [
    "xgb_class.fit(X_train,y_train)"
   ]
  },
  {
   "cell_type": "code",
   "execution_count": 166,
   "metadata": {},
   "outputs": [],
   "source": [
    "yxgb_pred=xgb_class.predict(X_test)"
   ]
  },
  {
   "cell_type": "code",
   "execution_count": 160,
   "metadata": {},
   "outputs": [
    {
     "name": "stdout",
     "output_type": "stream",
     "text": [
      "accuracy 0.993616\n",
      "confusion matrix\n",
      " [[ 12629    504]\n",
      " [   294 111573]]\n",
      "f1 score 0.996436609152288\n"
     ]
    }
   ],
   "source": [
    "xgb_acc =metrics.accuracy_score(y_test,yxgb_pred)\n",
    "xgb_confusion = metrics.confusion_matrix(y_test,yxgb_pred)\n",
    "xgb_f1_score = metrics.f1_score(y_test,yxgb_pred)\n",
    "print('accuracy',xgb_acc)\n",
    "print('confusion matrix\\n', xgb_confusion)\n",
    "print('f1 score',xgb_f1_score)"
   ]
  },
  {
   "cell_type": "markdown",
   "metadata": {},
   "source": [
    "in this case  doing min max scaler  the metrics of XGboos are worst we will try diferent scale method"
   ]
  },
  {
   "cell_type": "code",
   "execution_count": 107,
   "metadata": {},
   "outputs": [],
   "source": [
    "Sd_scale = StandardScaler()"
   ]
  },
  {
   "cell_type": "code",
   "execution_count": 108,
   "metadata": {},
   "outputs": [],
   "source": [
    "Xsd=Sd_scale.fit_transform(X)"
   ]
  },
  {
   "cell_type": "code",
   "execution_count": 274,
   "metadata": {},
   "outputs": [],
   "source": [
    "X_train,X_test,y_train,y_test =train_test_split(Xsd,y, random_state=0)"
   ]
  },
  {
   "cell_type": "code",
   "execution_count": 275,
   "metadata": {},
   "outputs": [],
   "source": [
    "xgb_class =xgb.XGBClassifier(max_depth=8,subsample=0.8,n_estimators=80,learning_rate=0.4,eval_metric='mlogloss',use_label_encoder =False)"
   ]
  },
  {
   "cell_type": "code",
   "execution_count": 276,
   "metadata": {},
   "outputs": [
    {
     "data": {
      "text/plain": [
       "XGBClassifier(base_score=0.5, booster='gbtree', colsample_bylevel=1,\n",
       "              colsample_bynode=1, colsample_bytree=1, eval_metric='mlogloss',\n",
       "              gamma=0, gpu_id=-1, importance_type='gain',\n",
       "              interaction_constraints='', learning_rate=0.4, max_delta_step=0,\n",
       "              max_depth=8, min_child_weight=1, missing=nan,\n",
       "              monotone_constraints='()', n_estimators=80, n_jobs=12,\n",
       "              num_parallel_tree=1, random_state=0, reg_alpha=0, reg_lambda=1,\n",
       "              scale_pos_weight=1, subsample=0.8, tree_method='exact',\n",
       "              use_label_encoder=False, validate_parameters=1, verbosity=None)"
      ]
     },
     "execution_count": 276,
     "metadata": {},
     "output_type": "execute_result"
    }
   ],
   "source": [
    "xgb_class.fit(X_train,y_train)"
   ]
  },
  {
   "cell_type": "code",
   "execution_count": 277,
   "metadata": {},
   "outputs": [],
   "source": [
    "yxgb_pred=xgb_class.predict(X_test)"
   ]
  },
  {
   "cell_type": "code",
   "execution_count": 278,
   "metadata": {},
   "outputs": [
    {
     "name": "stdout",
     "output_type": "stream",
     "text": [
      "accuracy 0.99324\n",
      "confusion matrix\n",
      " [[ 12652    558]\n",
      " [   287 111503]]\n",
      "f1 score 0.9962251676338278\n"
     ]
    }
   ],
   "source": [
    "xgb_acc =metrics.accuracy_score(y_test,yxgb_pred)\n",
    "xgb_confusion = metrics.confusion_matrix(y_test,yxgb_pred)\n",
    "xgb_f1_score = metrics.f1_score(y_test,yxgb_pred)\n",
    "print('accuracy',xgb_acc)\n",
    "print('confusion matrix\\n', xgb_confusion)\n",
    "print('f1 score',xgb_f1_score)"
   ]
  },
  {
   "cell_type": "markdown",
   "metadata": {},
   "source": [
    "the metrics still are worst in comparison to metrics without feature engineering.We will try to improve them with feature selection\n"
   ]
  },
  {
   "cell_type": "code",
   "execution_count": 191,
   "metadata": {},
   "outputs": [
    {
     "data": {
      "text/plain": [
       "RandomForestClassifier(random_state=0)"
      ]
     },
     "execution_count": 191,
     "metadata": {},
     "output_type": "execute_result"
    }
   ],
   "source": [
    "clf = RFC( random_state=0)\n",
    "clf.fit(X, y)\n"
   ]
  },
  {
   "cell_type": "code",
   "execution_count": 192,
   "metadata": {},
   "outputs": [],
   "source": [
    "yrf_predict=clf.predict(X_test)"
   ]
  },
  {
   "cell_type": "code",
   "execution_count": 193,
   "metadata": {},
   "outputs": [
    {
     "name": "stdout",
     "output_type": "stream",
     "text": [
      "accuracy 0.99343\n",
      "confusion matrix\n",
      " [[ 8879  1767]\n",
      " [  360 88994]]\n",
      "f1 score 0.9881908780501347\n"
     ]
    }
   ],
   "source": [
    "rf_acc =metrics.accuracy_score(y_test,yrf_predict)\n",
    "xgb_confusion = metrics.confusion_matrix(y_test,yrf_predict)\n",
    "xgb_f1_score = metrics.f1_score(y_test,yrf_predict)\n",
    "print('accuracy',xgb_acc)\n",
    "print('confusion matrix\\n', xgb_confusion)\n",
    "print('f1 score',xgb_f1_score)"
   ]
  },
  {
   "cell_type": "code",
   "execution_count": 194,
   "metadata": {},
   "outputs": [],
   "source": [
    "importance =clf.feature_importances_"
   ]
  },
  {
   "cell_type": "code",
   "execution_count": 195,
   "metadata": {},
   "outputs": [
    {
     "data": {
      "text/plain": [
       "array([0.00000000e+00, 2.29333864e-02, 2.97592252e-02, 1.79898673e-02,\n",
       "       3.46686893e-02, 3.18708652e-02, 3.90943462e-02, 3.78891333e-02,\n",
       "       1.14007945e-01, 1.62320620e-01, 6.91182840e-02, 1.77837051e-01,\n",
       "       5.70188126e-02, 2.76190077e-02, 5.04690165e-02, 0.00000000e+00,\n",
       "       0.00000000e+00, 4.34229801e-02, 3.35862040e-03, 4.51106031e-02,\n",
       "       9.90473369e-05, 3.54124995e-02])"
      ]
     },
     "execution_count": 195,
     "metadata": {},
     "output_type": "execute_result"
    }
   ],
   "source": [
    "importance"
   ]
  },
  {
   "cell_type": "code",
   "execution_count": 197,
   "metadata": {
    "scrolled": true
   },
   "outputs": [
    {
     "name": "stdout",
     "output_type": "stream",
     "text": [
      "Feature: 0, Score: 0.00000\n",
      "Feature: 1, Score: 0.02293\n",
      "Feature: 2, Score: 0.02976\n",
      "Feature: 3, Score: 0.01799\n",
      "Feature: 4, Score: 0.03467\n",
      "Feature: 5, Score: 0.03187\n",
      "Feature: 6, Score: 0.03909\n",
      "Feature: 7, Score: 0.03789\n",
      "Feature: 8, Score: 0.11401\n",
      "Feature: 9, Score: 0.16232\n",
      "Feature: 10, Score: 0.06912\n",
      "Feature: 11, Score: 0.17784\n",
      "Feature: 12, Score: 0.05702\n",
      "Feature: 13, Score: 0.02762\n",
      "Feature: 14, Score: 0.05047\n",
      "Feature: 15, Score: 0.00000\n",
      "Feature: 16, Score: 0.00000\n",
      "Feature: 17, Score: 0.04342\n",
      "Feature: 18, Score: 0.00336\n",
      "Feature: 19, Score: 0.04511\n",
      "Feature: 20, Score: 0.00010\n",
      "Feature: 21, Score: 0.03541\n"
     ]
    },
    {
     "data": {
      "image/png": "[encoded data removed]",
      "text/plain": [
       "<Figure size 432x288 with 1 Axes>"
      ]
     },
     "metadata": {
      "needs_background": "light"
     },
     "output_type": "display_data"
    }
   ],
   "source": [
    "for i,v in enumerate(importance):\n",
    "    print('Feature: %0d, Score: %.5f' % (i,v))\n",
    "# plot feature importance\n",
    "plt.bar([x for x in range(len(importance))], importance)\n",
    "plt.show()"
   ]
  },
  {
   "cell_type": "code",
   "execution_count": 165,
   "metadata": {},
   "outputs": [],
   "source": [
    "Xxgb=X.iloc[:,[8,9,11]]\n",
    "scaler = MinMaxScaler()\n",
    "\n",
    "Xs=scaler.fit_transform(Xxgb)\n"
   ]
  },
  {
   "cell_type": "code",
   "execution_count": 166,
   "metadata": {},
   "outputs": [],
   "source": [
    "X_train,X_test,y_train,y_test =train_test_split(Xs,y, random_state=0)"
   ]
  },
  {
   "cell_type": "code",
   "execution_count": 167,
   "metadata": {},
   "outputs": [
    {
     "name": "stdout",
     "output_type": "stream",
     "text": [
      "Execution Time: 00:00:09\n"
     ]
    }
   ],
   "source": [
    "start = time.time()\n",
    "xgb_class =xgb.XGBClassifier(max_depth=8,subsample=0.8,n_estimators=80,learning_rate=0.4,eval_metric='mlogloss',use_label_encoder =False)\n",
    "xgb_class.fit(X_train,y_train)\n",
    "yxgb_pred=xgb_class.predict(X_test)\n",
    "end = time.time()\n",
    "FE_xgb_time = exec_time(start,end)"
   ]
  },
  {
   "cell_type": "code",
   "execution_count": 168,
   "metadata": {},
   "outputs": [
    {
     "name": "stdout",
     "output_type": "stream",
     "text": [
      "accuracy 0.99584\n",
      "confusion matrix\n",
      " [[ 12926    330]\n",
      " [   190 111554]]\n",
      "f1 score 0.9976747097858943\n"
     ]
    }
   ],
   "source": [
    "xgb_acc =metrics.accuracy_score(y_test,yxgb_pred)\n",
    "xgb_confusion = metrics.confusion_matrix(y_test,yxgb_pred)\n",
    "xgb_f1_score = metrics.f1_score(y_test,yxgb_pred)\n",
    "print('accuracy',xgb_acc)\n",
    "print('confusion matrix\\n', xgb_confusion)\n",
    "print('f1 score',xgb_f1_score)"
   ]
  },
  {
   "cell_type": "code",
   "execution_count": 169,
   "metadata": {},
   "outputs": [],
   "source": [
    "Xsd=Sd_scale.fit_transform(Xxgb)"
   ]
  },
  {
   "cell_type": "code",
   "execution_count": 170,
   "metadata": {},
   "outputs": [],
   "source": [
    "X_train,X_test,y_train,y_test =train_test_split(Xsd,y, random_state=0)"
   ]
  },
  {
   "cell_type": "code",
   "execution_count": 171,
   "metadata": {},
   "outputs": [
    {
     "name": "stdout",
     "output_type": "stream",
     "text": [
      "Execution Time: 00:00:09\n"
     ]
    }
   ],
   "source": [
    "start = time.time()\n",
    "xgb_class =xgb.XGBClassifier(max_depth=8,subsample=0.8,n_estimators=80,learning_rate=0.4,eval_metric='mlogloss',use_label_encoder =False)\n",
    "xgb_class.fit(X_train,y_train)\n",
    "yxgb_pred=xgb_class.predict(X_test)\n",
    "end = time.time()\n",
    "FE_xgb_time = exec_time(start,end)"
   ]
  },
  {
   "cell_type": "code",
   "execution_count": 172,
   "metadata": {},
   "outputs": [
    {
     "name": "stdout",
     "output_type": "stream",
     "text": [
      "accuracy 0.99584\n",
      "confusion matrix\n",
      " [[ 12922    334]\n",
      " [   186 111558]]\n",
      "f1 score 0.9976747929671429\n"
     ]
    }
   ],
   "source": [
    "xgb_acc =metrics.accuracy_score(y_test,yxgb_pred)\n",
    "xgb_confusion = metrics.confusion_matrix(y_test,yxgb_pred)\n",
    "xgb_f1_score = metrics.f1_score(y_test,yxgb_pred)\n",
    "print('accuracy',xgb_acc)\n",
    "print('confusion matrix\\n', xgb_confusion)\n",
    "print('f1 score',xgb_f1_score)"
   ]
  },
  {
   "cell_type": "markdown",
   "metadata": {},
   "source": [
    "with the feature selection and min max scaler we improve significantly the metrics , we will do the same with KNN \n"
   ]
  },
  {
   "cell_type": "code",
   "execution_count": 27,
   "metadata": {},
   "outputs": [],
   "source": [
    "XKnn=X.iloc[:,[8,9,11]]"
   ]
  },
  {
   "cell_type": "code",
   "execution_count": 30,
   "metadata": {},
   "outputs": [],
   "source": [
    "Xs=scaler.fit_transform(XKnn)"
   ]
  },
  {
   "cell_type": "code",
   "execution_count": 122,
   "metadata": {},
   "outputs": [],
   "source": [
    "X_train,X_test,y_train,y_test =train_test_split(XKnn,y, random_state=0)"
   ]
  },
  {
   "cell_type": "code",
   "execution_count": 123,
   "metadata": {},
   "outputs": [
    {
     "name": "stdout",
     "output_type": "stream",
     "text": [
      "Execution Time: 00:00:02\n"
     ]
    }
   ],
   "source": [
    "start = time.time()\n",
    "clsKnn = KNeighborsClassifier(n_neighbors=8,weights=params['weights'][1],p=params['p'][0],algorithm=params['algorithm'][2],n_jobs=-1)\n",
    "clsKnn.fit(X_train,y_train)\n",
    "yKnn_pred=clsKnn.predict(X_test)\n",
    "end = time.time()\n",
    "FE_Knn_time= exec_time(start,end)"
   ]
  },
  {
   "cell_type": "code",
   "execution_count": 124,
   "metadata": {},
   "outputs": [
    {
     "name": "stdout",
     "output_type": "stream",
     "text": [
      "accuracy 0.996624\n",
      "confusion matrix\n",
      " [[ 13022    234]\n",
      " [   188 111556]]\n",
      "f1 score 0.998112144013886\n"
     ]
    }
   ],
   "source": [
    "knn_acc =metrics.accuracy_score(y_test,yKnn_pred)\n",
    "knn_confusion = metrics.confusion_matrix(y_test,yKnn_pred)\n",
    "knn_f1_score = metrics.f1_score(y_test,yKnn_pred)\n",
    "print('accuracy',knn_acc)\n",
    "print('confusion matrix\\n', knn_confusion)\n",
    "print('f1 score',knn_f1_score)"
   ]
  },
  {
   "cell_type": "code",
   "execution_count": 125,
   "metadata": {},
   "outputs": [],
   "source": [
    "Xsd=Sd_scale.fit_transform(XKnn)\n",
    "\n",
    "X_train,X_test,y_train,y_test =train_test_split(Xsd,y, random_state=0)"
   ]
  },
  {
   "cell_type": "code",
   "execution_count": 207,
   "metadata": {},
   "outputs": [],
   "source": [
    "clssKnn = KNeighborsClassifier(n_neighbors=3,weights=params['weights'][1],p=params['p'][0],algorithm=params['algorithm'][2],n_jobs=-1)"
   ]
  },
  {
   "cell_type": "code",
   "execution_count": 209,
   "metadata": {},
   "outputs": [
    {
     "data": {
      "text/plain": [
       "KNeighborsClassifier(algorithm='kd_tree', n_jobs=-1, n_neighbors=3, p=1,\n",
       "                     weights='distance')"
      ]
     },
     "execution_count": 209,
     "metadata": {},
     "output_type": "execute_result"
    }
   ],
   "source": [
    "clssKnn.fit(X_train,y_train)"
   ]
  },
  {
   "cell_type": "code",
   "execution_count": 211,
   "metadata": {},
   "outputs": [],
   "source": [
    "yKnn_pred=clssKnn.predict(X_test)"
   ]
  },
  {
   "cell_type": "code",
   "execution_count": 212,
   "metadata": {},
   "outputs": [
    {
     "name": "stdout",
     "output_type": "stream",
     "text": [
      "accuracy 0.9894\n",
      "confusion matrix\n",
      " [[ 504   34]\n",
      " [  19 4443]]\n",
      "f1 score 0.9940709251594139\n"
     ]
    }
   ],
   "source": [
    "knn_acc =metrics.accuracy_score(y_test,yKnn_pred)\n",
    "knn_confusion = metrics.confusion_matrix(y_test,yKnn_pred)\n",
    "knn_f1_score = metrics.f1_score(y_test,yKnn_pred)\n",
    "print('accuracy',knn_acc)\n",
    "print('confusion matrix\\n', knn_confusion)\n",
    "print('f1 score',knn_f1_score)"
   ]
  },
  {
   "cell_type": "markdown",
   "metadata": {},
   "source": [
    "we can see that with feature selection of 'ActualElapsedTime', 'CRSElapsedTime', 'DepDelay'  and min Max scale we get much better metrics  and the process time decrease notoriously"
   ]
  },
  {
   "cell_type": "markdown",
   "metadata": {},
   "source": [
    "finally we will try the same configuration with SVM in order to see if we can decrease the time processing"
   ]
  },
  {
   "cell_type": "code",
   "execution_count": 39,
   "metadata": {},
   "outputs": [],
   "source": [
    "Xsvm=X.iloc[:,[8,9,11]]\n",
    "\n",
    "\n",
    "\n",
    "X_train,X_test,y_train,y_test =train_test_split(Xsvm,y, random_state=0)"
   ]
  },
  {
   "cell_type": "code",
   "execution_count": 40,
   "metadata": {},
   "outputs": [
    {
     "name": "stdout",
     "output_type": "stream",
     "text": [
      "Execution Time: 00:00:02\n"
     ]
    }
   ],
   "source": [
    "start = time.time()\n",
    "clf = svm.SVC(kernel='linear')\n",
    "clf.fit(X_train,y_train)\n",
    "ysvm_pred = clf.predict(X_test)\n",
    "end = time.time()\n",
    "Fe_svm_time= exec_time(start,end)"
   ]
  },
  {
   "cell_type": "code",
   "execution_count": 41,
   "metadata": {},
   "outputs": [
    {
     "name": "stdout",
     "output_type": "stream",
     "text": [
      "accuracy 1.0\n",
      "confusion matrix\n",
      " [[ 13289      0]\n",
      " [     0 111711]]\n",
      "f1 score 1.0\n"
     ]
    }
   ],
   "source": [
    "ysvm_acc =metrics.accuracy_score(y_test,ysvm_pred)\n",
    "ysvm_confusion = metrics.confusion_matrix(y_test,ysvm_pred)\n",
    "ysvm_f1_score = metrics.f1_score(y_test,ysvm_pred)\n",
    "print('accuracy',ysvm_acc)\n",
    "print('confusion matrix\\n', ysvm_confusion)\n",
    "print('f1 score',ysvm_f1_score)"
   ]
  },
  {
   "cell_type": "markdown",
   "metadata": {},
   "source": [
    "we get the best results almost immediately proving that we get the best combination"
   ]
  },
  {
   "cell_type": "markdown",
   "metadata": {},
   "source": [
    "***using 10-fold cross validation***"
   ]
  },
  {
   "cell_type": "code",
   "execution_count": 288,
   "metadata": {},
   "outputs": [],
   "source": [
    "kf =KFold(n_splits=10)\n",
    "df_sample=df.sample(500000)\n",
    "\n",
    "X=df_sample.drop(['Delayed'],axis=1)\n",
    "X=X.iloc[:,[8,9,11]]\n",
    "y=df_sample['Delayed']\n"
   ]
  },
  {
   "cell_type": "code",
   "execution_count": 289,
   "metadata": {},
   "outputs": [],
   "source": [
    "\n",
    "def get_prediction(model,X_train,X_test,y_train,y_test):\n",
    "    model.fit(X_train,y_train)\n",
    "    predict = model.predict(X_test)\n",
    "    prob = model.predict_proba(X_test)\n",
    "    prob = prob[:, 1]\n",
    "    \n",
    "    \n",
    "    return predict,prob\n",
    "def get_predictions():\n",
    "    return predictions\n",
    "    "
   ]
  },
  {
   "cell_type": "code",
   "execution_count": 300,
   "metadata": {},
   "outputs": [],
   "source": [
    "def kfold_cv(model):\n",
    "    confusion_matrix = pd.DataFrame(columns=['Negative','Positive'],index=['Negative','Positive'])\n",
    "    predictions= []\n",
    "    accuracy_arr = []\n",
    "    f1_scores =[]\n",
    "    roc_auc_scores = []\n",
    "    TP = []\n",
    "    TN = []\n",
    "    FP = []\n",
    "    FN = []\n",
    "    for train_index ,test_index in kf.split(X):\n",
    "        X_train, X_test, y_train, y_test = X.iloc[list(train_index)], X.iloc[list(test_index)],y.iloc[list(train_index)], y.iloc[list(test_index)]\n",
    "       \n",
    "        prediction , proba = get_prediction(model,X_train,X_test,y_train,y_test)\n",
    "        predictions.append(prediction)\n",
    "       \n",
    "        roc_auc = roc_auc_score(y_test,proba)\n",
    "        roc_auc_scores.append(roc_auc)\n",
    "       \n",
    "        \n",
    "        \n",
    "        \n",
    "        accuracy_arr.append(metrics.accuracy_score(y_test,prediction))\n",
    "        f1_scores.append(metrics.f1_score(y_test,prediction))\n",
    "        confusion= metrics.confusion_matrix(y_test,prediction)\n",
    "        print(confusion)\n",
    "        TP.append(confusion[1,1])\n",
    "        TN.append(confusion[0,0] )\n",
    "        FP.append(confusion[0,1])\n",
    "        FN.append(confusion[1,0])\n",
    "    confusion_matrix.iloc[1,1]=round(np.mean(TP),0)\n",
    "    confusion_matrix.iloc[0,1]=round(np.mean(FP),0)\n",
    "    confusion_matrix.iloc[1,0]=round(np.mean(FN),0)\n",
    "    confusion_matrix.iloc[0,0]=round(np.mean(TN),0)\n",
    "    print('accuracy mean:',np.mean(accuracy_arr))\n",
    "    print('F1 score mean',np.mean(f1_scores))\n",
    "    print('ROC-AUC mean', np.mean(roc_auc_scores))\n",
    "    print('Confusion Matrix\\n')\n",
    "    print(confusion_matrix)\n",
    "    \n",
    "        \n",
    "    \n",
    "    \n",
    "    \n",
    "        \n",
    "    \n",
    "    "
   ]
  },
  {
   "cell_type": "markdown",
   "metadata": {},
   "source": [
    "***KNN***"
   ]
  },
  {
   "cell_type": "code",
   "execution_count": 296,
   "metadata": {},
   "outputs": [],
   "source": [
    "KNNclss = KNeighborsClassifier(n_neighbors=3,weights=params['weights'][1],p=params['p'][0],algorithm=params['algorithm'][2],n_jobs=-1)"
   ]
  },
  {
   "cell_type": "code",
   "execution_count": 301,
   "metadata": {},
   "outputs": [
    {
     "name": "stdout",
     "output_type": "stream",
     "text": [
      "[[ 5152    72]\n",
      " [  114 44662]]\n",
      "[[ 5209    81]\n",
      " [   83 44627]]\n",
      "[[ 5151    82]\n",
      " [  100 44667]]\n",
      "[[ 5251    94]\n",
      " [   94 44561]]\n",
      "[[ 5167    87]\n",
      " [   81 44665]]\n",
      "[[ 5155    78]\n",
      " [   77 44690]]\n",
      "[[ 5249    90]\n",
      " [   76 44585]]\n",
      "[[ 5283    85]\n",
      " [  105 44527]]\n",
      "[[ 5216    91]\n",
      " [   91 44602]]\n",
      "[[ 5272    82]\n",
      " [   85 44561]]\n",
      "accuracy mean: 0.9965040000000001\n",
      "F1 score mean 0.9980447857880421\n",
      "ROC-AUC mean 0.9975025938830901\n",
      "Confusion Matrix\n",
      "\n",
      "         Negative Positive\n",
      "Negative     5210       84\n",
      "Positive       91    44615\n"
     ]
    }
   ],
   "source": [
    "kfold_cv(KNNclss)"
   ]
  },
  {
   "cell_type": "markdown",
   "metadata": {},
   "source": [
    "***SVM***"
   ]
  },
  {
   "cell_type": "code",
   "execution_count": 302,
   "metadata": {},
   "outputs": [
    {
     "name": "stdout",
     "output_type": "stream",
     "text": [
      "[[ 5224     0]\n",
      " [    0 44776]]\n",
      "[[ 5290     0]\n",
      " [    0 44710]]\n",
      "[[ 5233     0]\n",
      " [    0 44767]]\n",
      "[[ 5345     0]\n",
      " [    0 44655]]\n",
      "[[ 5254     0]\n",
      " [    0 44746]]\n",
      "[[ 5233     0]\n",
      " [    0 44767]]\n",
      "[[ 5339     0]\n",
      " [    0 44661]]\n",
      "[[ 5368     0]\n",
      " [    0 44632]]\n",
      "[[ 5307     0]\n",
      " [    0 44693]]\n",
      "[[ 5354     0]\n",
      " [    0 44646]]\n",
      "accuracy mean: 1.0\n",
      "F1 score mean 1.0\n",
      "ROC-AUC mean 1.0\n",
      "Confusion Matrix\n",
      "\n",
      "         Negative Positive\n",
      "Negative     5295        0\n",
      "Positive        0    44705\n"
     ]
    }
   ],
   "source": [
    "svmclf = svm.SVC(kernel='linear',probability=True)\n",
    "kfold_cv(svmclf)"
   ]
  },
  {
   "cell_type": "markdown",
   "metadata": {},
   "source": [
    "***XGB***"
   ]
  },
  {
   "cell_type": "code",
   "execution_count": 306,
   "metadata": {},
   "outputs": [
    {
     "name": "stdout",
     "output_type": "stream",
     "text": [
      "[[ 5111   113]\n",
      " [   98 44678]]\n",
      "[[ 5168   122]\n",
      " [   74 44636]]\n",
      "[[ 5093   140]\n",
      " [   97 44670]]\n",
      "[[ 5201   144]\n",
      " [   82 44573]]\n",
      "[[ 5127   127]\n",
      " [   74 44672]]\n",
      "[[ 5111   122]\n",
      " [   65 44702]]\n",
      "[[ 5221   118]\n",
      " [   81 44580]]\n",
      "[[ 5241   127]\n",
      " [   87 44545]]\n",
      "[[ 5188   119]\n",
      " [   81 44612]]\n",
      "[[ 5221   133]\n",
      " [   78 44568]]\n",
      "accuracy mean: 0.995836\n",
      "F1 score mean 0.9976725628501246\n",
      "ROC-AUC mean 0.9997835230352043\n",
      "Confusion Matrix\n",
      "\n",
      "         Negative Positive\n",
      "Negative     5168      126\n",
      "Positive       82    44624\n"
     ]
    }
   ],
   "source": [
    "xgb_class =xgb.XGBClassifier(max_depth=8,subsample=0.8,n_estimators=80,learning_rate=0.4,eval_metric='mlogloss',use_label_encoder =False)\n",
    "kfold_cv(xgb_class)"
   ]
  },
  {
   "cell_type": "code",
   "execution_count": null,
   "metadata": {},
   "outputs": [],
   "source": [
    "barWidth = 0.25\n",
    "plt.figure(figsize=(10,6))\n",
    "bar1=[accKnn,knn_ht_acc,knn_acc]\n",
    "bar2= [accSvm,acc[2],ysvm_acc]\n",
    "bar3= [accXgb,ht_xgb_acc,xgb_acc]\n",
    "\n",
    "r1 = np.arange(len(bar1))\n",
    "r2 = [x + barWidth for x in r1]\n",
    "r3 = [x + barWidth for x in r2]\n",
    "\n",
    "plt.bar(r1, bar1, width=barWidth, edgecolor='white', label='KNN')\n",
    "plt.bar(r2, bar2, width=barWidth, edgecolor='white', label='SVM')\n",
    "plt.bar(r3, bar3, width=barWidth, edgecolor='white', label='XGB')\n",
    "\n",
    "plt.xlabel('Models', fontweight='bold')\n",
    "plt.xticks([r + barWidth for r in range(len(bar1))], ['Default', 'hyperTunning', 'Feature Engineering'])\n",
    "plt.legend(loc=(1.04,0.75))\n",
    "plt.title('Accuracy comparison of diferent models')\n",
    "plt.show()"
   ]
  },
  {
   "cell_type": "code",
   "execution_count": 307,
   "metadata": {},
   "outputs": [
    {
     "ename": "NameError",
     "evalue": "name 'default_knn' is not defined",
     "output_type": "error",
     "traceback": [
      "\u001b[1;31m---------------------------------------------------------------------------\u001b[0m",
      "\u001b[1;31mNameError\u001b[0m                                 Traceback (most recent call last)",
      "\u001b[1;32m<ipython-input-307-be84d30cc33b>\u001b[0m in \u001b[0;36m<module>\u001b[1;34m\u001b[0m\n\u001b[1;32m----> 1\u001b[1;33m \u001b[0mbar1\u001b[0m\u001b[1;33m=\u001b[0m\u001b[1;33m[\u001b[0m\u001b[0mdefault_knn\u001b[0m\u001b[1;33m,\u001b[0m\u001b[0mht_Knn\u001b[0m\u001b[1;33m,\u001b[0m\u001b[0mFE_Knn_time\u001b[0m\u001b[1;33m]\u001b[0m\u001b[1;33m\u001b[0m\u001b[1;33m\u001b[0m\u001b[0m\n\u001b[0m\u001b[0;32m      2\u001b[0m \u001b[0mbar2\u001b[0m\u001b[1;33m=\u001b[0m \u001b[1;33m[\u001b[0m\u001b[0mdefault_svm\u001b[0m\u001b[1;33m,\u001b[0m\u001b[0mtime_svm\u001b[0m\u001b[1;33m[\u001b[0m\u001b[1;36m2\u001b[0m\u001b[1;33m]\u001b[0m\u001b[1;33m,\u001b[0m\u001b[0mFe_svm_time\u001b[0m\u001b[1;33m]\u001b[0m\u001b[1;33m\u001b[0m\u001b[1;33m\u001b[0m\u001b[0m\n\u001b[0;32m      3\u001b[0m \u001b[0mbar3\u001b[0m\u001b[1;33m=\u001b[0m \u001b[1;33m[\u001b[0m\u001b[0mdefault_xgb\u001b[0m\u001b[1;33m,\u001b[0m\u001b[0mht_time_xgb\u001b[0m\u001b[1;33m,\u001b[0m\u001b[0mFE_xgb_time\u001b[0m \u001b[1;33m]\u001b[0m\u001b[1;33m\u001b[0m\u001b[1;33m\u001b[0m\u001b[0m\n\u001b[0;32m      4\u001b[0m \u001b[1;33m\u001b[0m\u001b[0m\n\u001b[0;32m      5\u001b[0m \u001b[0mtime_knn\u001b[0m \u001b[1;33m=\u001b[0m \u001b[1;33m[\u001b[0m\u001b[1;33m]\u001b[0m\u001b[1;33m\u001b[0m\u001b[1;33m\u001b[0m\u001b[0m\n",
      "\u001b[1;31mNameError\u001b[0m: name 'default_knn' is not defined"
     ]
    }
   ],
   "source": [
    "bar1=[default_knn,ht_Knn,FE_Knn_time]\n",
    "bar2= [default_svm,time_svm[2],Fe_svm_time]\n",
    "bar3= [default_xgb,ht_time_xgb,FE_xgb_time ]\n",
    "\n",
    "time_knn = []\n",
    "time_svm = []\n",
    "time_xgb = []\n",
    "for x in bar1:\n",
    "    seconds = x.minute *60\n",
    "    total_seconds=x.second +seconds\n",
    "    time_knn.append(total_seconds)\n",
    "\n",
    "for x in bar2:\n",
    "    seconds = x.minute *60\n",
    "    total_seconds=x.second +seconds\n",
    "    time_svm.append(total_seconds)\n",
    "\n",
    "for x in bar3:\n",
    "    seconds = x.minute *60\n",
    "    total_seconds=x.second +seconds\n",
    "    time_xgb.append(total_seconds)\n"
   ]
  },
  {
   "cell_type": "code",
   "execution_count": 229,
   "metadata": {},
   "outputs": [
    {
     "data": {
      "image/png": "[encoded data removed]",
      "text/plain": [
       "<Figure size 720x432 with 1 Axes>"
      ]
     },
     "metadata": {
      "needs_background": "light"
     },
     "output_type": "display_data"
    }
   ],
   "source": [
    "barWidth = 0.25\n",
    "plt.figure(figsize=(10,6))\n",
    "\n",
    "r1 = np.arange(len(time_knn))\n",
    "r2 = [x + barWidth for x in r1]\n",
    "r3 = [x + barWidth for x in r2]\n",
    "\n",
    "plt.bar(r1, time_knn, width=barWidth, edgecolor='white', label='KNN')\n",
    "plt.bar(r2, time_svm, width=barWidth, edgecolor='white', label='SVM')\n",
    "plt.bar(r3, time_xgb, width=barWidth, edgecolor='white', label='XGB')\n",
    "\n",
    "plt.xlabel('Models', fontweight='bold')\n",
    "plt.ylabel('Seconds')\n",
    "plt.xticks([r + barWidth for r in range(len(bar1))], ['Default', 'hyperTunning', 'Feature Engineering'])\n",
    "plt.legend(loc=(1.04,0.75))\n",
    "plt.title('Run time comparison of diferent models')\n",
    "plt.show()"
   ]
  },
  {
   "cell_type": "code",
   "execution_count": 248,
   "metadata": {},
   "outputs": [
    {
     "data": {
      "image/png": "[encoded data removed]",
      "text/plain": [
       "<Figure size 720x432 with 1 Axes>"
      ]
     },
     "metadata": {
      "needs_background": "light"
     },
     "output_type": "display_data"
    }
   ],
   "source": [
    "plt.figure(figsize=(10,6))\n",
    "sns.barplot(data=cvdf1)\n",
    "plt.title('CrossValidation comparison')\n",
    "plt.show()"
   ]
  },
  {
   "cell_type": "markdown",
   "metadata": {},
   "source": [
    "## Nivell 3\n",
    "### Exercici 6\n",
    "No utilitzis la variable DepDelay a l’hora de fer prediccions"
   ]
  },
  {
   "cell_type": "code",
   "execution_count": 57,
   "metadata": {},
   "outputs": [
    {
     "data": {
      "text/html": [
       "<div>\n",
       "<style scoped>\n",
       "    .dataframe tbody tr th:only-of-type {\n",
       "        vertical-align: middle;\n",
       "    }\n",
       "\n",
       "    .dataframe tbody tr th {\n",
       "        vertical-align: top;\n",
       "    }\n",
       "\n",
       "    .dataframe thead th {\n",
       "        text-align: right;\n",
       "    }\n",
       "</style>\n",
       "<table border=\"1\" class=\"dataframe\">\n",
       "  <thead>\n",
       "    <tr style=\"text-align: right;\">\n",
       "      <th></th>\n",
       "      <th>ActualElapsedTime</th>\n",
       "      <th>CRSElapsedTime</th>\n",
       "      <th>AirTime</th>\n",
       "    </tr>\n",
       "  </thead>\n",
       "  <tbody>\n",
       "    <tr>\n",
       "      <th>1440455</th>\n",
       "      <td>81.0</td>\n",
       "      <td>85.0</td>\n",
       "      <td>67.0</td>\n",
       "    </tr>\n",
       "    <tr>\n",
       "      <th>1600434</th>\n",
       "      <td>507.0</td>\n",
       "      <td>510.0</td>\n",
       "      <td>480.0</td>\n",
       "    </tr>\n",
       "    <tr>\n",
       "      <th>1191335</th>\n",
       "      <td>60.0</td>\n",
       "      <td>70.0</td>\n",
       "      <td>40.0</td>\n",
       "    </tr>\n",
       "    <tr>\n",
       "      <th>1340575</th>\n",
       "      <td>182.0</td>\n",
       "      <td>180.0</td>\n",
       "      <td>153.0</td>\n",
       "    </tr>\n",
       "    <tr>\n",
       "      <th>252817</th>\n",
       "      <td>38.0</td>\n",
       "      <td>42.0</td>\n",
       "      <td>22.0</td>\n",
       "    </tr>\n",
       "    <tr>\n",
       "      <th>...</th>\n",
       "      <td>...</td>\n",
       "      <td>...</td>\n",
       "      <td>...</td>\n",
       "    </tr>\n",
       "    <tr>\n",
       "      <th>1077465</th>\n",
       "      <td>267.0</td>\n",
       "      <td>258.0</td>\n",
       "      <td>244.0</td>\n",
       "    </tr>\n",
       "    <tr>\n",
       "      <th>1580599</th>\n",
       "      <td>101.0</td>\n",
       "      <td>102.0</td>\n",
       "      <td>79.0</td>\n",
       "    </tr>\n",
       "    <tr>\n",
       "      <th>20152</th>\n",
       "      <td>65.0</td>\n",
       "      <td>65.0</td>\n",
       "      <td>55.0</td>\n",
       "    </tr>\n",
       "    <tr>\n",
       "      <th>1135888</th>\n",
       "      <td>109.0</td>\n",
       "      <td>110.0</td>\n",
       "      <td>89.0</td>\n",
       "    </tr>\n",
       "    <tr>\n",
       "      <th>471031</th>\n",
       "      <td>133.0</td>\n",
       "      <td>155.0</td>\n",
       "      <td>121.0</td>\n",
       "    </tr>\n",
       "  </tbody>\n",
       "</table>\n",
       "<p>500000 rows × 3 columns</p>\n",
       "</div>"
      ],
      "text/plain": [
       "         ActualElapsedTime  CRSElapsedTime  AirTime\n",
       "1440455               81.0            85.0     67.0\n",
       "1600434              507.0           510.0    480.0\n",
       "1191335               60.0            70.0     40.0\n",
       "1340575              182.0           180.0    153.0\n",
       "252817                38.0            42.0     22.0\n",
       "...                    ...             ...      ...\n",
       "1077465              267.0           258.0    244.0\n",
       "1580599              101.0           102.0     79.0\n",
       "20152                 65.0            65.0     55.0\n",
       "1135888              109.0           110.0     89.0\n",
       "471031               133.0           155.0    121.0\n",
       "\n",
       "[500000 rows x 3 columns]"
      ]
     },
     "execution_count": 57,
     "metadata": {},
     "output_type": "execute_result"
    }
   ],
   "source": [
    "X6 =X.iloc[:,[8,9,10]]\n"
   ]
  },
  {
   "cell_type": "code",
   "execution_count": 51,
   "metadata": {},
   "outputs": [],
   "source": [
    "Xs=scaler.fit_transform(X6)"
   ]
  },
  {
   "cell_type": "markdown",
   "metadata": {},
   "source": [
    "***KNN***"
   ]
  },
  {
   "cell_type": "code",
   "execution_count": 45,
   "metadata": {},
   "outputs": [],
   "source": [
    "X_train,X_test,y_train,y_test =train_test_split(Xs,y, random_state=0)"
   ]
  },
  {
   "cell_type": "code",
   "execution_count": 46,
   "metadata": {},
   "outputs": [
    {
     "name": "stdout",
     "output_type": "stream",
     "text": [
      "Execution Time: 00:00:01\n"
     ]
    }
   ],
   "source": [
    "start = time.time()\n",
    "clsKnn = KNeighborsClassifier(n_neighbors=6,weights=params['weights'][1],p=params['p'][0],algorithm=params['algorithm'][2],n_jobs=-1)\n",
    "clsKnn.fit(X_train,y_train)\n",
    "yKnn_pred=clsKnn.predict(X_test)\n",
    "end = time.time()\n",
    "FE_Knn_time= exec_time(start,end)"
   ]
  },
  {
   "cell_type": "code",
   "execution_count": 47,
   "metadata": {},
   "outputs": [
    {
     "name": "stdout",
     "output_type": "stream",
     "text": [
      "accuracy 0.866672\n",
      "confusion matrix\n",
      " [[  3965   9324]\n",
      " [  7342 104369]]\n",
      "f1 score 0.9260616493052476\n"
     ]
    }
   ],
   "source": [
    "knn_acc =metrics.accuracy_score(y_test,yKnn_pred)\n",
    "knn_confusion = metrics.confusion_matrix(y_test,yKnn_pred)\n",
    "knn_f1_score = metrics.f1_score(y_test,yKnn_pred)\n",
    "print('accuracy',knn_acc)\n",
    "print('confusion matrix\\n', knn_confusion)\n",
    "print('f1 score',knn_f1_score)"
   ]
  },
  {
   "cell_type": "markdown",
   "metadata": {},
   "source": [
    "***SVM***\n"
   ]
  },
  {
   "cell_type": "code",
   "execution_count": null,
   "metadata": {},
   "outputs": [],
   "source": [
    "\n",
    "X_train,X_test,y_train,y_test =train_test_split(X6,y, random_state=0)\n",
    "start = time.time()\n",
    "clf = svm.SVC(kernel='linear')\n",
    "clf.fit(X_train,y_train)\n",
    "ysvm_pred = clf.predict(X_test)\n",
    "end = time.time()\n",
    "Fe_svm_time= exec_time(start,end)"
   ]
  },
  {
   "cell_type": "code",
   "execution_count": 56,
   "metadata": {},
   "outputs": [
    {
     "name": "stdout",
     "output_type": "stream",
     "text": [
      "accuracy 1.0\n",
      "confusion matrix\n",
      " [[ 13289      0]\n",
      " [     0 111711]]\n",
      "f1 score 1.0\n"
     ]
    }
   ],
   "source": [
    "ysvm_acc =metrics.accuracy_score(y_test,ysvm_pred)\n",
    "ysvm_confusion = metrics.confusion_matrix(y_test,ysvm_pred)\n",
    "ysvm_f1_score = metrics.f1_score(y_test,ysvm_pred)\n",
    "print('accuracy',ysvm_acc)\n",
    "print('confusion matrix\\n', ysvm_confusion)\n",
    "print('f1 score',ysvm_f1_score)"
   ]
  },
  {
   "cell_type": "markdown",
   "metadata": {},
   "source": [
    "***XGB***"
   ]
  },
  {
   "cell_type": "code",
   "execution_count": 53,
   "metadata": {},
   "outputs": [
    {
     "name": "stdout",
     "output_type": "stream",
     "text": [
      "Execution Time: 00:00:07\n"
     ]
    }
   ],
   "source": [
    "start = time.time()\n",
    "X_train,X_test,y_train,y_test =train_test_split(Xs,y, random_state=0)\n",
    "xgb_class =xgb.XGBClassifier(max_depth=6,subsample=0.8,n_estimators=80,learning_rate=0.4,eval_metric='mlogloss',use_label_encoder =False)\n",
    "xgb_class.fit(X_train,y_train)\n",
    "yxgb_pred=xgb_class.predict(X_test)\n",
    "end = time.time()\n",
    "FE_xgb_time = exec_time(start,end)"
   ]
  },
  {
   "cell_type": "code",
   "execution_count": 54,
   "metadata": {},
   "outputs": [
    {
     "name": "stdout",
     "output_type": "stream",
     "text": [
      "accuracy 0.894144\n",
      "confusion matrix\n",
      " [[  1287  12002]\n",
      " [  1230 110481]]\n",
      "f1 score 0.9434998334713955\n"
     ]
    }
   ],
   "source": [
    "xgb_acc =metrics.accuracy_score(y_test,yxgb_pred)\n",
    "xgb_confusion = metrics.confusion_matrix(y_test,yxgb_pred)\n",
    "xgb_f1_score = metrics.f1_score(y_test,yxgb_pred)\n",
    "print('accuracy',xgb_acc)\n",
    "print('confusion matrix\\n', xgb_confusion)\n",
    "print('f1 score',xgb_f1_score)"
   ]
  },
  {
   "cell_type": "markdown",
   "metadata": {},
   "source": [
    "As we can see the metrics  without DepDelay are quite bad, specially  for  SVM model which it spend 47 minutes in run time . Meaning that DepDelay is esencial for the explanation of the Target  variance"
   ]
  },
  {
   "cell_type": "code",
   "execution_count": null,
   "metadata": {},
   "outputs": [],
   "source": []
  }
 ],
 "metadata": {
  "kernelspec": {
   "display_name": "Python 3",
   "language": "python",
   "name": "python3"
  },
  "language_info": {
   "codemirror_mode": {
    "name": "ipython",
    "version": 3
   },
   "file_extension": ".py",
   "mimetype": "text/x-python",
   "name": "python",
   "nbconvert_exporter": "python",
   "pygments_lexer": "ipython3",
   "version": "3.8.5"
  }
 },
 "nbformat": 4,
 "nbformat_minor": 4
}
